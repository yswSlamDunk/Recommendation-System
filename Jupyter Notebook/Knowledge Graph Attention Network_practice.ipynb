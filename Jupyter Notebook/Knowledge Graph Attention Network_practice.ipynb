{
 "cells": [
  {
   "cell_type": "markdown",
   "id": "17c7a35a",
   "metadata": {},
   "source": [
    "https://github.com/LunaBlack/KGAT-pytorch"
   ]
  },
  {
   "cell_type": "code",
   "execution_count": 1,
   "id": "cf8b95ea",
   "metadata": {},
   "outputs": [],
   "source": [
    "import os\n",
    "import pandas as pd\n",
    "import numpy as np\n",
    "import scipy.sparse as sp\n",
    "import argparse\n",
    "\n",
    "from sklearn.preprocessing import LabelEncoder\n",
    "\n",
    "import torch\n",
    "import torch.nn as nn\n",
    "import torch.optim as optim\n",
    "import torch.nn.functional as F\n",
    "from torch.utils.data import Dataset, DataLoader"
   ]
  },
  {
   "cell_type": "code",
   "execution_count": 2,
   "id": "18e01ca3",
   "metadata": {},
   "outputs": [],
   "source": [
    "path = '../Data/Amazon-Book'"
   ]
  },
  {
   "cell_type": "code",
   "execution_count": 62,
   "id": "53806050",
   "metadata": {
    "collapsed": true
   },
   "outputs": [
    {
     "name": "stderr",
     "output_type": "stream",
     "text": [
      "/tmp/ipykernel_6097/3509060418.py:1: ParserWarning: Falling back to the 'python' engine because the 'c' engine does not support regex separators (separators > 1 char and different from '\\s+' are interpreted as regex); you can avoid this warning by specifying engine='python'.\n",
      "  entity_list_df = pd.read_csv(os.path.join(path, 'entity_list.txt'), names = ['org_id', 'remap_id'], sep = '\\s', error_bad_lines = False, header = 0)\n",
      "/tmp/ipykernel_6097/3509060418.py:1: FutureWarning: The error_bad_lines argument has been deprecated and will be removed in a future version. Use on_bad_lines in the future.\n",
      "\n",
      "\n",
      "  entity_list_df = pd.read_csv(os.path.join(path, 'entity_list.txt'), names = ['org_id', 'remap_id'], sep = '\\s', error_bad_lines = False, header = 0)\n",
      "Skipping line 25710: Expected 2 fields in line 25710, saw 4. Error could possibly be due to quotes being ignored when a multi-char delimiter is used.\n",
      "Skipping line 40039: Expected 2 fields in line 40039, saw 3. Error could possibly be due to quotes being ignored when a multi-char delimiter is used.\n",
      "Skipping line 59316: Expected 2 fields in line 59316, saw 3. Error could possibly be due to quotes being ignored when a multi-char delimiter is used.\n",
      "Skipping line 60072: Expected 2 fields in line 60072, saw 3. Error could possibly be due to quotes being ignored when a multi-char delimiter is used.\n",
      "Skipping line 60295: Expected 2 fields in line 60295, saw 3. Error could possibly be due to quotes being ignored when a multi-char delimiter is used.\n",
      "Skipping line 78267: Expected 2 fields in line 78267, saw 3. Error could possibly be due to quotes being ignored when a multi-char delimiter is used.\n",
      "Skipping line 82833: Expected 2 fields in line 82833, saw 3. Error could possibly be due to quotes being ignored when a multi-char delimiter is used.\n",
      "Skipping line 90125: Expected 2 fields in line 90125, saw 3. Error could possibly be due to quotes being ignored when a multi-char delimiter is used.\n",
      "Skipping line 92045: Expected 2 fields in line 92045, saw 3. Error could possibly be due to quotes being ignored when a multi-char delimiter is used.\n",
      "Skipping line 98001: Expected 2 fields in line 98001, saw 4. Error could possibly be due to quotes being ignored when a multi-char delimiter is used.\n",
      "Skipping line 98629: Expected 2 fields in line 98629, saw 3. Error could possibly be due to quotes being ignored when a multi-char delimiter is used.\n",
      "Skipping line 100104: Expected 2 fields in line 100104, saw 3. Error could possibly be due to quotes being ignored when a multi-char delimiter is used.\n",
      "Skipping line 102491: Expected 2 fields in line 102491, saw 3. Error could possibly be due to quotes being ignored when a multi-char delimiter is used.\n",
      "Skipping line 106070: Expected 2 fields in line 106070, saw 3. Error could possibly be due to quotes being ignored when a multi-char delimiter is used.\n"
     ]
    }
   ],
   "source": [
    "entity_list_df = pd.read_csv(os.path.join(path, 'entity_list.txt'), names = ['org_id', 'remap_id'], sep = '\\s', error_bad_lines = False, header = 0)"
   ]
  },
  {
   "cell_type": "code",
   "execution_count": 63,
   "id": "ef106125",
   "metadata": {},
   "outputs": [
    {
     "data": {
      "text/html": [
       "<div>\n",
       "<style scoped>\n",
       "    .dataframe tbody tr th:only-of-type {\n",
       "        vertical-align: middle;\n",
       "    }\n",
       "\n",
       "    .dataframe tbody tr th {\n",
       "        vertical-align: top;\n",
       "    }\n",
       "\n",
       "    .dataframe thead th {\n",
       "        text-align: right;\n",
       "    }\n",
       "</style>\n",
       "<table border=\"1\" class=\"dataframe\">\n",
       "  <thead>\n",
       "    <tr style=\"text-align: right;\">\n",
       "      <th></th>\n",
       "      <th>org_id</th>\n",
       "      <th>remap_id</th>\n",
       "    </tr>\n",
       "  </thead>\n",
       "  <tbody>\n",
       "    <tr>\n",
       "      <th>0</th>\n",
       "      <td>m.045wq1q</td>\n",
       "      <td>0.0</td>\n",
       "    </tr>\n",
       "    <tr>\n",
       "      <th>1</th>\n",
       "      <td>m.03_28m</td>\n",
       "      <td>1.0</td>\n",
       "    </tr>\n",
       "    <tr>\n",
       "      <th>2</th>\n",
       "      <td>m.0h2q1cq</td>\n",
       "      <td>2.0</td>\n",
       "    </tr>\n",
       "    <tr>\n",
       "      <th>3</th>\n",
       "      <td>m.04y9jxd</td>\n",
       "      <td>3.0</td>\n",
       "    </tr>\n",
       "    <tr>\n",
       "      <th>4</th>\n",
       "      <td>m.060c1r</td>\n",
       "      <td>4.0</td>\n",
       "    </tr>\n",
       "  </tbody>\n",
       "</table>\n",
       "</div>"
      ],
      "text/plain": [
       "      org_id  remap_id\n",
       "0  m.045wq1q       0.0\n",
       "1   m.03_28m       1.0\n",
       "2  m.0h2q1cq       2.0\n",
       "3  m.04y9jxd       3.0\n",
       "4   m.060c1r       4.0"
      ]
     },
     "execution_count": 63,
     "metadata": {},
     "output_type": "execute_result"
    }
   ],
   "source": [
    "entity_list_df.head()"
   ]
  },
  {
   "cell_type": "code",
   "execution_count": 64,
   "id": "1aebb92f",
   "metadata": {},
   "outputs": [
    {
     "name": "stderr",
     "output_type": "stream",
     "text": [
      "/tmp/ipykernel_6097/1822623027.py:1: ParserWarning: Falling back to the 'python' engine because the 'c' engine does not support regex separators (separators > 1 char and different from '\\s+' are interpreted as regex); you can avoid this warning by specifying engine='python'.\n",
      "  item_list_df = pd.read_csv(os.path.join(path, 'item_list.txt'), names = ['org_id', 'remap_id', 'freebase_id'], sep = '\\s', header = 0)\n"
     ]
    }
   ],
   "source": [
    "item_list_df = pd.read_csv(os.path.join(path, 'item_list.txt'), names = ['org_id', 'remap_id', 'freebase_id'], sep = '\\s', header = 0)"
   ]
  },
  {
   "cell_type": "code",
   "execution_count": 65,
   "id": "32a1b5fc",
   "metadata": {},
   "outputs": [
    {
     "data": {
      "text/html": [
       "<div>\n",
       "<style scoped>\n",
       "    .dataframe tbody tr th:only-of-type {\n",
       "        vertical-align: middle;\n",
       "    }\n",
       "\n",
       "    .dataframe tbody tr th {\n",
       "        vertical-align: top;\n",
       "    }\n",
       "\n",
       "    .dataframe thead th {\n",
       "        text-align: right;\n",
       "    }\n",
       "</style>\n",
       "<table border=\"1\" class=\"dataframe\">\n",
       "  <thead>\n",
       "    <tr style=\"text-align: right;\">\n",
       "      <th></th>\n",
       "      <th>org_id</th>\n",
       "      <th>remap_id</th>\n",
       "      <th>freebase_id</th>\n",
       "    </tr>\n",
       "  </thead>\n",
       "  <tbody>\n",
       "    <tr>\n",
       "      <th>0</th>\n",
       "      <td>0553092626</td>\n",
       "      <td>0</td>\n",
       "      <td>m.045wq1q</td>\n",
       "    </tr>\n",
       "    <tr>\n",
       "      <th>1</th>\n",
       "      <td>0393316041</td>\n",
       "      <td>1</td>\n",
       "      <td>m.03_28m</td>\n",
       "    </tr>\n",
       "    <tr>\n",
       "      <th>2</th>\n",
       "      <td>038548254X</td>\n",
       "      <td>2</td>\n",
       "      <td>m.0h2q1cq</td>\n",
       "    </tr>\n",
       "    <tr>\n",
       "      <th>3</th>\n",
       "      <td>0385307756</td>\n",
       "      <td>3</td>\n",
       "      <td>m.04y9jxd</td>\n",
       "    </tr>\n",
       "    <tr>\n",
       "      <th>4</th>\n",
       "      <td>038531258X</td>\n",
       "      <td>4</td>\n",
       "      <td>m.060c1r</td>\n",
       "    </tr>\n",
       "  </tbody>\n",
       "</table>\n",
       "</div>"
      ],
      "text/plain": [
       "       org_id  remap_id freebase_id\n",
       "0  0553092626         0   m.045wq1q\n",
       "1  0393316041         1    m.03_28m\n",
       "2  038548254X         2   m.0h2q1cq\n",
       "3  0385307756         3   m.04y9jxd\n",
       "4  038531258X         4    m.060c1r"
      ]
     },
     "execution_count": 65,
     "metadata": {},
     "output_type": "execute_result"
    }
   ],
   "source": [
    "item_list_df.head()"
   ]
  },
  {
   "cell_type": "code",
   "execution_count": 78,
   "id": "9331605e",
   "metadata": {},
   "outputs": [
    {
     "data": {
      "text/plain": [
       "{1}"
      ]
     },
     "execution_count": 78,
     "metadata": {},
     "output_type": "execute_result"
    }
   ],
   "source": [
    "set(item_list_df.groupby(['org_id'])['freebase_id'].nunique())"
   ]
  },
  {
   "cell_type": "code",
   "execution_count": 79,
   "id": "192bf85c",
   "metadata": {},
   "outputs": [
    {
     "data": {
      "text/plain": [
       "{1}"
      ]
     },
     "execution_count": 79,
     "metadata": {},
     "output_type": "execute_result"
    }
   ],
   "source": [
    "set(item_list_df.groupby(['freebase_id'])['org_id'].nunique())"
   ]
  },
  {
   "cell_type": "code",
   "execution_count": 80,
   "id": "726052f2",
   "metadata": {},
   "outputs": [
    {
     "data": {
      "text/plain": [
       "0"
      ]
     },
     "execution_count": 80,
     "metadata": {},
     "output_type": "execute_result"
    }
   ],
   "source": [
    "item_list_df['org_id'].nunique() - item_list_df['freebase_id'].nunique()"
   ]
  },
  {
   "cell_type": "code",
   "execution_count": null,
   "id": "d13fe593",
   "metadata": {},
   "outputs": [],
   "source": []
  },
  {
   "cell_type": "code",
   "execution_count": 53,
   "id": "877fc1ee",
   "metadata": {},
   "outputs": [],
   "source": [
    "kg_final_df = pd.read_csv(os.path.join(path, 'kg_final.txt'), names = ['h', 'r', 't'], sep = ' ')"
   ]
  },
  {
   "cell_type": "code",
   "execution_count": 54,
   "id": "77df59b7",
   "metadata": {},
   "outputs": [
    {
     "data": {
      "text/html": [
       "<div>\n",
       "<style scoped>\n",
       "    .dataframe tbody tr th:only-of-type {\n",
       "        vertical-align: middle;\n",
       "    }\n",
       "\n",
       "    .dataframe tbody tr th {\n",
       "        vertical-align: top;\n",
       "    }\n",
       "\n",
       "    .dataframe thead th {\n",
       "        text-align: right;\n",
       "    }\n",
       "</style>\n",
       "<table border=\"1\" class=\"dataframe\">\n",
       "  <thead>\n",
       "    <tr style=\"text-align: right;\">\n",
       "      <th></th>\n",
       "      <th>h</th>\n",
       "      <th>r</th>\n",
       "      <th>t</th>\n",
       "    </tr>\n",
       "  </thead>\n",
       "  <tbody>\n",
       "    <tr>\n",
       "      <th>0</th>\n",
       "      <td>24915</td>\n",
       "      <td>0</td>\n",
       "      <td>24916</td>\n",
       "    </tr>\n",
       "    <tr>\n",
       "      <th>1</th>\n",
       "      <td>24917</td>\n",
       "      <td>1</td>\n",
       "      <td>5117</td>\n",
       "    </tr>\n",
       "    <tr>\n",
       "      <th>2</th>\n",
       "      <td>24918</td>\n",
       "      <td>0</td>\n",
       "      <td>24917</td>\n",
       "    </tr>\n",
       "    <tr>\n",
       "      <th>3</th>\n",
       "      <td>24919</td>\n",
       "      <td>1</td>\n",
       "      <td>24920</td>\n",
       "    </tr>\n",
       "    <tr>\n",
       "      <th>4</th>\n",
       "      <td>24921</td>\n",
       "      <td>2</td>\n",
       "      <td>24922</td>\n",
       "    </tr>\n",
       "  </tbody>\n",
       "</table>\n",
       "</div>"
      ],
      "text/plain": [
       "       h  r      t\n",
       "0  24915  0  24916\n",
       "1  24917  1   5117\n",
       "2  24918  0  24917\n",
       "3  24919  1  24920\n",
       "4  24921  2  24922"
      ]
     },
     "execution_count": 54,
     "metadata": {},
     "output_type": "execute_result"
    }
   ],
   "source": [
    "kg_final_df.head()"
   ]
  },
  {
   "cell_type": "code",
   "execution_count": 59,
   "id": "71fb4e71",
   "metadata": {
    "collapsed": true
   },
   "outputs": [
    {
     "name": "stderr",
     "output_type": "stream",
     "text": [
      "/tmp/ipykernel_6097/2992960167.py:1: ParserWarning: Falling back to the 'python' engine because the 'c' engine does not support regex separators (separators > 1 char and different from '\\s+' are interpreted as regex); you can avoid this warning by specifying engine='python'.\n",
      "  user_list_df = pd.read_csv(os.path.join(path, 'user_list.txt'), names = ['org_id', 'remap_id'], sep = '\\s', header = 0)\n"
     ]
    }
   ],
   "source": [
    "user_list_df = pd.read_csv(os.path.join(path, 'user_list.txt'), names = ['org_id', 'remap_id'], sep = '\\s', header = 0)"
   ]
  },
  {
   "cell_type": "code",
   "execution_count": 60,
   "id": "d3d2b2b9",
   "metadata": {},
   "outputs": [
    {
     "data": {
      "text/html": [
       "<div>\n",
       "<style scoped>\n",
       "    .dataframe tbody tr th:only-of-type {\n",
       "        vertical-align: middle;\n",
       "    }\n",
       "\n",
       "    .dataframe tbody tr th {\n",
       "        vertical-align: top;\n",
       "    }\n",
       "\n",
       "    .dataframe thead th {\n",
       "        text-align: right;\n",
       "    }\n",
       "</style>\n",
       "<table border=\"1\" class=\"dataframe\">\n",
       "  <thead>\n",
       "    <tr style=\"text-align: right;\">\n",
       "      <th></th>\n",
       "      <th>org_id</th>\n",
       "      <th>remap_id</th>\n",
       "    </tr>\n",
       "  </thead>\n",
       "  <tbody>\n",
       "    <tr>\n",
       "      <th>0</th>\n",
       "      <td>A3RTKL9KB8KLID</td>\n",
       "      <td>0</td>\n",
       "    </tr>\n",
       "    <tr>\n",
       "      <th>1</th>\n",
       "      <td>A38LAIK2N83NH0</td>\n",
       "      <td>1</td>\n",
       "    </tr>\n",
       "    <tr>\n",
       "      <th>2</th>\n",
       "      <td>A3PPXVR5J6U2JD</td>\n",
       "      <td>2</td>\n",
       "    </tr>\n",
       "    <tr>\n",
       "      <th>3</th>\n",
       "      <td>A2ULDDL3MLJPUR</td>\n",
       "      <td>3</td>\n",
       "    </tr>\n",
       "    <tr>\n",
       "      <th>4</th>\n",
       "      <td>A2I6MHMAZZDCRX</td>\n",
       "      <td>4</td>\n",
       "    </tr>\n",
       "  </tbody>\n",
       "</table>\n",
       "</div>"
      ],
      "text/plain": [
       "           org_id  remap_id\n",
       "0  A3RTKL9KB8KLID         0\n",
       "1  A38LAIK2N83NH0         1\n",
       "2  A3PPXVR5J6U2JD         2\n",
       "3  A2ULDDL3MLJPUR         3\n",
       "4  A2I6MHMAZZDCRX         4"
      ]
     },
     "execution_count": 60,
     "metadata": {},
     "output_type": "execute_result"
    }
   ],
   "source": [
    "user_list_df.head()"
   ]
  },
  {
   "cell_type": "code",
   "execution_count": null,
   "id": "42242562",
   "metadata": {},
   "outputs": [],
   "source": []
  },
  {
   "cell_type": "code",
   "execution_count": 81,
   "id": "17506c22",
   "metadata": {},
   "outputs": [
    {
     "data": {
      "text/plain": [
       "70679"
      ]
     },
     "execution_count": 81,
     "metadata": {},
     "output_type": "execute_result"
    }
   ],
   "source": [
    "user_list_df['remap_id'].nunique()"
   ]
  },
  {
   "cell_type": "code",
   "execution_count": 82,
   "id": "8e337906",
   "metadata": {},
   "outputs": [
    {
     "data": {
      "text/plain": [
       "24915"
      ]
     },
     "execution_count": 82,
     "metadata": {},
     "output_type": "execute_result"
    }
   ],
   "source": [
    "item_list_df['remap_id'].nunique()"
   ]
  },
  {
   "cell_type": "code",
   "execution_count": 83,
   "id": "41b4741c",
   "metadata": {},
   "outputs": [
    {
     "data": {
      "text/plain": [
       "113308"
      ]
     },
     "execution_count": 83,
     "metadata": {},
     "output_type": "execute_result"
    }
   ],
   "source": [
    "kg_final_df['h'].nunique()"
   ]
  },
  {
   "cell_type": "code",
   "execution_count": 84,
   "id": "ffd51b33",
   "metadata": {},
   "outputs": [
    {
     "data": {
      "text/plain": [
       "113479"
      ]
     },
     "execution_count": 84,
     "metadata": {},
     "output_type": "execute_result"
    }
   ],
   "source": [
    "kg_final_df['t'].nunique()"
   ]
  },
  {
   "cell_type": "code",
   "execution_count": 85,
   "id": "d7b9854d",
   "metadata": {},
   "outputs": [
    {
     "data": {
      "text/plain": [
       "113472"
      ]
     },
     "execution_count": 85,
     "metadata": {},
     "output_type": "execute_result"
    }
   ],
   "source": [
    "entity_list_df['remap_id'].nunique()"
   ]
  },
  {
   "cell_type": "code",
   "execution_count": 88,
   "id": "8bdfd3a8",
   "metadata": {},
   "outputs": [
    {
     "data": {
      "text/plain": [
       "17885"
      ]
     },
     "execution_count": 88,
     "metadata": {},
     "output_type": "execute_result"
    }
   ],
   "source": [
    "kg_final_df['t'].nunique() - (user_list_df['remap_id'].nunique() + item_list_df['remap_id'].nunique())"
   ]
  },
  {
   "cell_type": "code",
   "execution_count": 89,
   "id": "23f147cc",
   "metadata": {},
   "outputs": [
    {
     "data": {
      "text/plain": [
       "113479"
      ]
     },
     "execution_count": 89,
     "metadata": {},
     "output_type": "execute_result"
    }
   ],
   "source": [
    "kg_final_df['t'].nunique()"
   ]
  },
  {
   "cell_type": "code",
   "execution_count": 90,
   "id": "9c589fc9",
   "metadata": {},
   "outputs": [
    {
     "data": {
      "text/plain": [
       "113308"
      ]
     },
     "execution_count": 90,
     "metadata": {},
     "output_type": "execute_result"
    }
   ],
   "source": [
    "kg_final_df['h'].nunique()"
   ]
  },
  {
   "cell_type": "code",
   "execution_count": 91,
   "id": "4885a35d",
   "metadata": {},
   "outputs": [
    {
     "data": {
      "text/plain": [
       "t\n",
       "0         16\n",
       "1         10\n",
       "2          6\n",
       "3         10\n",
       "4         15\n",
       "          ..\n",
       "113482     5\n",
       "113483     5\n",
       "113484     5\n",
       "113485     6\n",
       "113486     6\n",
       "Name: h, Length: 113479, dtype: int64"
      ]
     },
     "execution_count": 91,
     "metadata": {},
     "output_type": "execute_result"
    }
   ],
   "source": [
    "kg_final_df.groupby(['t'])['h'].nunique()"
   ]
  },
  {
   "cell_type": "code",
   "execution_count": null,
   "id": "d60db766",
   "metadata": {},
   "outputs": [],
   "source": []
  }
 ],
 "metadata": {
  "kernelspec": {
   "display_name": "Python 3 (ipykernel)",
   "language": "python",
   "name": "python3"
  },
  "language_info": {
   "codemirror_mode": {
    "name": "ipython",
    "version": 3
   },
   "file_extension": ".py",
   "mimetype": "text/x-python",
   "name": "python",
   "nbconvert_exporter": "python",
   "pygments_lexer": "ipython3",
   "version": "3.9.7"
  }
 },
 "nbformat": 4,
 "nbformat_minor": 5
}
