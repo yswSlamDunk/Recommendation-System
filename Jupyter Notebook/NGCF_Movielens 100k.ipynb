{
 "cells": [
  {
   "cell_type": "markdown",
   "id": "cc636c4a",
   "metadata": {},
   "source": [
    "https://github.com/huangtinglin/NGCF-PyTorch/blob/master/NGCF/main.py"
   ]
  },
  {
   "cell_type": "code",
   "execution_count": 1,
   "id": "ae9745a8",
   "metadata": {},
   "outputs": [],
   "source": [
    "import os\n",
    "import pandas as pd\n",
    "import numpy as np\n",
    "import random\n",
    "import scipy.sparse as sp\n",
    "import argparse\n",
    "\n",
    "from sklearn.preprocessing import LabelEncoder\n",
    "\n",
    "import torch\n",
    "import torch.optim as optim\n",
    "import torch.nn as nn\n",
    "import torch.nn.functional as F\n",
    "from torch.utils.data import Dataset, DataLoader"
   ]
  },
  {
   "cell_type": "markdown",
   "id": "7b7bddf1",
   "metadata": {},
   "source": [
    "# 전처리"
   ]
  },
  {
   "cell_type": "code",
   "execution_count": 2,
   "id": "07232474",
   "metadata": {},
   "outputs": [],
   "source": [
    "path = '../Data/Movie_Lens_100k'"
   ]
  },
  {
   "cell_type": "code",
   "execution_count": 3,
   "id": "2b6089e7",
   "metadata": {},
   "outputs": [],
   "source": [
    "train_df = pd.read_csv(os.path.join(path, 'ua.base'), sep = '\\t', names = ['user_id', 'movie_id', 'rating', 'timestamp'])\n",
    "test_df = pd.read_csv(os.path.join(path, 'ua.test'), sep = '\\t', names = ['user_id', 'movie_id', 'rating', 'timestamp'])"
   ]
  },
  {
   "cell_type": "code",
   "execution_count": 4,
   "id": "197e945a",
   "metadata": {},
   "outputs": [],
   "source": [
    "test_only_movie = list(set(test_df['movie_id'].unique().flatten()) - set(train_df['movie_id'].unique().flatten()))\n",
    "test_df = test_df[~test_df['movie_id'].isin(test_only_movie)]"
   ]
  },
  {
   "cell_type": "markdown",
   "id": "6534ef2f",
   "metadata": {},
   "source": [
    "### Label Encoder"
   ]
  },
  {
   "cell_type": "code",
   "execution_count": 5,
   "id": "f3636218",
   "metadata": {},
   "outputs": [],
   "source": [
    "user_le = LabelEncoder()\n",
    "movie_le = LabelEncoder()\n",
    "\n",
    "user_le.fit(train_df['user_id'])\n",
    "movie_le.fit(train_df['movie_id'])\n",
    "\n",
    "train_df['user_id'] = user_le.transform(train_df['user_id'])\n",
    "train_df['movie_id'] = movie_le.transform(train_df['movie_id'])\n",
    "\n",
    "test_df['user_id'] = user_le.transform(test_df['user_id'])\n",
    "test_df['movie_id'] = movie_le.transform(test_df['movie_id'])"
   ]
  },
  {
   "cell_type": "code",
   "execution_count": 6,
   "id": "032d65cf",
   "metadata": {},
   "outputs": [
    {
     "data": {
      "text/html": [
       "<div>\n",
       "<style scoped>\n",
       "    .dataframe tbody tr th:only-of-type {\n",
       "        vertical-align: middle;\n",
       "    }\n",
       "\n",
       "    .dataframe tbody tr th {\n",
       "        vertical-align: top;\n",
       "    }\n",
       "\n",
       "    .dataframe thead th {\n",
       "        text-align: right;\n",
       "    }\n",
       "</style>\n",
       "<table border=\"1\" class=\"dataframe\">\n",
       "  <thead>\n",
       "    <tr style=\"text-align: right;\">\n",
       "      <th></th>\n",
       "      <th>user_id</th>\n",
       "      <th>movie_id</th>\n",
       "      <th>rating</th>\n",
       "      <th>timestamp</th>\n",
       "    </tr>\n",
       "  </thead>\n",
       "  <tbody>\n",
       "    <tr>\n",
       "      <th>0</th>\n",
       "      <td>0</td>\n",
       "      <td>0</td>\n",
       "      <td>5</td>\n",
       "      <td>874965758</td>\n",
       "    </tr>\n",
       "    <tr>\n",
       "      <th>1</th>\n",
       "      <td>0</td>\n",
       "      <td>1</td>\n",
       "      <td>3</td>\n",
       "      <td>876893171</td>\n",
       "    </tr>\n",
       "    <tr>\n",
       "      <th>2</th>\n",
       "      <td>0</td>\n",
       "      <td>2</td>\n",
       "      <td>4</td>\n",
       "      <td>878542960</td>\n",
       "    </tr>\n",
       "    <tr>\n",
       "      <th>3</th>\n",
       "      <td>0</td>\n",
       "      <td>3</td>\n",
       "      <td>3</td>\n",
       "      <td>876893119</td>\n",
       "    </tr>\n",
       "    <tr>\n",
       "      <th>4</th>\n",
       "      <td>0</td>\n",
       "      <td>4</td>\n",
       "      <td>3</td>\n",
       "      <td>889751712</td>\n",
       "    </tr>\n",
       "  </tbody>\n",
       "</table>\n",
       "</div>"
      ],
      "text/plain": [
       "   user_id  movie_id  rating  timestamp\n",
       "0        0         0       5  874965758\n",
       "1        0         1       3  876893171\n",
       "2        0         2       4  878542960\n",
       "3        0         3       3  876893119\n",
       "4        0         4       3  889751712"
      ]
     },
     "execution_count": 6,
     "metadata": {},
     "output_type": "execute_result"
    }
   ],
   "source": [
    "train_df.head()"
   ]
  },
  {
   "cell_type": "code",
   "execution_count": null,
   "id": "e0b201b7",
   "metadata": {},
   "outputs": [],
   "source": []
  },
  {
   "cell_type": "markdown",
   "id": "9afcdf06",
   "metadata": {},
   "source": [
    "# NGCF"
   ]
  },
  {
   "cell_type": "markdown",
   "id": "73da2106",
   "metadata": {},
   "source": [
    "### Graph class"
   ]
  },
  {
   "cell_type": "code",
   "execution_count": 8,
   "id": "acd2dd0b",
   "metadata": {},
   "outputs": [],
   "source": [
    "class Graph(object):\n",
    "    def __init__(self, train_df, test_df, user_le, item_le, batch_size):\n",
    "#         self.path = path\n",
    "        self.batch_size = batch_size\n",
    "       \n",
    "        self.user_le = user_le\n",
    "        self.item_le = item_le\n",
    "        \n",
    "        self.n_users = len(train_df['user_id'].unique())\n",
    "        self.n_items = len(train_df['movie_id'].unique())\n",
    "        \n",
    "        self.n_train = len(train_df)\n",
    "        self.n_test = len(test_df)\n",
    "        \n",
    "        self.R = sp.dok_matrix((self.n_users, self.n_items), dtype = np.float32)\n",
    "        \n",
    "        self.train_items, self.test_set = {}, {}\n",
    "        self.exist_users = list(train_df['user_id'].unique())\n",
    "        \n",
    "        for i, row in train_df.iterrows():\n",
    "            \n",
    "            # 여기에 rating 값을 넣어야 하는지 생갈할 필요가 있다.\n",
    "            self.R[row['user_id'], row['movie_id']] = 1\n",
    "        \n",
    "        for i, row in enumerate(train_df.groupby(['user_id'])['movie_id'].unique()):\n",
    "            self.train_items[i] = row\n",
    "            \n",
    "        for i, row in enumerate(test_df.groupby(['user_id'])['movie_id'].unique()):\n",
    "            self.test_set[i] = row\n",
    "        \n",
    "    def get_adj_mat(self):\n",
    "        adj_mat, norm_adj_mat, mean_adj_mat = self.create_adj_mat()\n",
    "        return adj_mat, norm_adj_mat, mean_adj_mat\n",
    "    \n",
    "    def create_adj_mat(self):\n",
    "        adj_mat = sp.dok_matrix((self.n_users + self.n_items, self.n_users + self.n_items), dtype = np.float32)\n",
    "        adj_mat = adj_mat.tolil()\n",
    "        R = self.R.tolil()\n",
    "        \n",
    "        adj_mat[:self.n_users, self.n_users:] = R\n",
    "        adj_mat[self.n_users:, :self.n_users] = R.T\n",
    "        adj_mat = adj_mat.todok()\n",
    "        \n",
    "        def mean_adj_single(adj):\n",
    "            rowsum = np.array(adj.sum(1))\n",
    "            \n",
    "            d_inv = np.power(rowsum, -1).flatten()\n",
    "            d_inv[np.isinf(d_inv)] = 0.\n",
    "            d_mat_inv = sp.diags(d_inv)\n",
    "            \n",
    "            norm_adj = d_mat_inv.dot(adj)\n",
    "            return norm_adj.tocoo()\n",
    "        \n",
    "        def normalized_adj_single(adj):\n",
    "            rowsum = np.array(adj.sum(1))\n",
    "            \n",
    "            d_inv_sqrt = np.power(rowsum, -0.5).flatten()\n",
    "            d_inv_sqrt[np.isinf(d_inv_sqrt)] = 0.\n",
    "            d_mat_inv_sqrt = sp.diags(d_inv_sqrt)\n",
    "            \n",
    "            bi_lap = d_mat_inv_sqrt.dot(adj).dot(d_mat_inv_sqrt)\n",
    "            return bi_lap.tocoo()\n",
    "        \n",
    "        def check_adj_if_equal(adj):\n",
    "            dense_A = np.array(adj.todense())\n",
    "            degree = np.sum(dense_A, axis = 1, keepdims = False)\n",
    "            \n",
    "            temp = np.dot(np.diag(np.power(degree, -1)), dense_A)\n",
    "            return temp\n",
    "        \n",
    "        norm_adj_mat = mean_adj_single(adj_mat + sp.eye(adj_mat.shape[0]))\n",
    "        mean_adj_mat = mean_adj_single(adj_mat)\n",
    "        return adj_mat.tocsr(), norm_adj_mat.tocsr(), mean_adj_mat.tocsr()\n",
    "    \n",
    "    \n",
    "    def get_num_users_items(self):\n",
    "        return self.n_users, self.n_items        "
   ]
  },
  {
   "cell_type": "code",
   "execution_count": 9,
   "id": "dace29d1",
   "metadata": {},
   "outputs": [],
   "source": [
    "class CustomDataset(Dataset):\n",
    "    def __init__(self, df):\n",
    "        super(Dataset, self).__init__()\n",
    "        self.df = df\n",
    "        \n",
    "    def __len__(self):\n",
    "        return len(self.df)\n",
    "    \n",
    "    def __getitem__(self, idx):\n",
    "        row = self.df.iloc[idx]\n",
    "        \n",
    "        user = torch.tensor(row[0], dtype = torch.long)\n",
    "        item = torch.tensor(row[1], dtype = torch.long)\n",
    "        label = torch.tensor(row[2], dtype = torch.float)\n",
    "        \n",
    "        return user, item, label"
   ]
  },
  {
   "cell_type": "markdown",
   "id": "7cdc0e49",
   "metadata": {},
   "source": [
    "# Main"
   ]
  },
  {
   "cell_type": "markdown",
   "id": "53744342",
   "metadata": {},
   "source": [
    "### argparse"
   ]
  },
  {
   "cell_type": "code",
   "execution_count": 10,
   "id": "0a8cbea2",
   "metadata": {},
   "outputs": [
    {
     "data": {
      "text/plain": [
       "_StoreAction(option_strings=['--report'], dest='report', nargs=None, const=None, default=0, type=<class 'int'>, choices=None, help='0: Disable performance report w.r.t. sparsity levels, 1: Show performance report w.r.t. sparsity levels', metavar=None)"
      ]
     },
     "execution_count": 10,
     "metadata": {},
     "output_type": "execute_result"
    }
   ],
   "source": [
    "parser = argparse.ArgumentParser(description=\"Run NGCF.\")\n",
    "parser.add_argument('--weights_path', nargs='?', default='model/',\n",
    "                    help='Store model path.')\n",
    "parser.add_argument('--data_path', nargs='?', default='../Data/',\n",
    "                    help='Input data path.')\n",
    "parser.add_argument('--proj_path', nargs='?', default='',\n",
    "                    help='Project path.')\n",
    "\n",
    "parser.add_argument('--dataset', nargs='?', default='gowalla',\n",
    "                    help='Choose a dataset from {gowalla, yelp2018, amazon-book}')\n",
    "parser.add_argument('--pretrain', type=int, default=0,\n",
    "                    help='0: No pretrain, -1: Pretrain with the learned embeddings, 1:Pretrain with stored models.')\n",
    "parser.add_argument('--verbose', type=int, default=1,\n",
    "                    help='Interval of evaluation.')\n",
    "parser.add_argument('--epoch', type=int, default=30,\n",
    "                    help='Number of epoch.')\n",
    "\n",
    "parser.add_argument('--embed_size', type=int, default=64,\n",
    "                    help='Embedding size.')\n",
    "parser.add_argument('--layer_size', nargs='?', default='[64,64,64]',\n",
    "                    help='Output sizes of every layer')\n",
    "parser.add_argument('--batch_size', type=int, default=1024,\n",
    "                    help='Batch size.')\n",
    "\n",
    "parser.add_argument('--regs', nargs='?', default='[1e-5]',\n",
    "                    help='Regularizations.')\n",
    "parser.add_argument('--lr', type=float, default=0.001,\n",
    "                    help='Learning rate.')\n",
    "\n",
    "parser.add_argument('--model_type', nargs='?', default='ngcf',\n",
    "                    help='Specify the name of model (ngcf).')\n",
    "parser.add_argument('--adj_type', nargs='?', default='norm',\n",
    "                    help='Specify the type of the adjacency (laplacian) matrix from {plain, norm, mean}.')\n",
    "\n",
    "parser.add_argument('--gpu_id', type=int, default=6)\n",
    "\n",
    "parser.add_argument('--node_dropout_flag', type=int, default=1,\n",
    "                    help='0: Disable node dropout, 1: Activate node dropout')\n",
    "parser.add_argument('--node_dropout', nargs='?', default='[0.1]',\n",
    "                    help='Keep probability w.r.t. node dropout (i.e., 1-dropout_ratio) for each deep layer. 1: no dropout.')\n",
    "parser.add_argument('--mess_dropout', nargs='?', default='[0.1,0.1,0.1]',\n",
    "                    help='Keep probability w.r.t. message dropout (i.e., 1-dropout_ratio) for each deep layer. 1: no dropout.')\n",
    "\n",
    "parser.add_argument('--Ks', nargs='?', default='[20, 40, 60, 80, 100]',\n",
    "                    help='Output sizes of every layer')\n",
    "\n",
    "parser.add_argument('--save_flag', type=int, default=0,\n",
    "                    help='0: Disable model saver, 1: Activate model saver')\n",
    "\n",
    "parser.add_argument('--test_flag', nargs='?', default='part',\n",
    "                    help='Specify the test type from {part, full}, indicating whether the reference is done in mini-batch')\n",
    "\n",
    "parser.add_argument('--report', type=int, default=0,\n",
    "                    help='0: Disable performance report w.r.t. sparsity levels, 1: Show performance report w.r.t. sparsity levels')"
   ]
  },
  {
   "cell_type": "code",
   "execution_count": 17,
   "id": "a44d01f4",
   "metadata": {},
   "outputs": [
    {
     "name": "stdout",
     "output_type": "stream",
     "text": [
      "epoch : 0, train_loss : 1.9686, test_loss : 2.0468\n",
      "epoch : 1, train_loss : 1.8886, test_loss : 1.9195\n",
      "epoch : 2, train_loss : 1.4726, test_loss : 1.4204\n",
      "epoch : 3, train_loss : 1.0101, test_loss : 1.1402\n",
      "epoch : 4, train_loss : 0.888, test_loss : 1.0519\n",
      "epoch : 5, train_loss : 0.8325, test_loss : 0.9854\n",
      "epoch : 6, train_loss : 0.7776, test_loss : 0.9617\n",
      "epoch : 7, train_loss : 0.7288, test_loss : 0.9197\n",
      "epoch : 8, train_loss : 0.6922, test_loss : 0.9114\n",
      "epoch : 9, train_loss : 0.6566, test_loss : 0.9095\n",
      "epoch : 10, train_loss : 0.6236, test_loss : 0.9107\n",
      "epoch : 11, train_loss : 0.592, test_loss : 0.8742\n",
      "epoch : 12, train_loss : 0.5619, test_loss : 0.89\n",
      "epoch : 13, train_loss : 0.5344, test_loss : 0.8938\n",
      "epoch : 14, train_loss : 0.5072, test_loss : 0.8846\n",
      "epoch : 15, train_loss : 0.4822, test_loss : 0.8884\n",
      "epoch : 16, train_loss : 0.4587, test_loss : 0.9013\n",
      "epoch : 17, train_loss : 0.4362, test_loss : 0.8893\n",
      "epoch : 18, train_loss : 0.4148, test_loss : 0.9068\n",
      "epoch : 19, train_loss : 0.3941, test_loss : 0.915\n",
      "epoch : 20, train_loss : 0.3748, test_loss : 0.9077\n",
      "epoch : 21, train_loss : 0.3574, test_loss : 0.941\n",
      "epoch : 22, train_loss : 0.3405, test_loss : 0.9282\n",
      "epoch : 23, train_loss : 0.3242, test_loss : 0.9335\n",
      "epoch : 24, train_loss : 0.3087, test_loss : 0.9394\n",
      "epoch : 25, train_loss : 0.2949, test_loss : 0.9461\n",
      "epoch : 26, train_loss : 0.2814, test_loss : 0.9527\n",
      "epoch : 27, train_loss : 0.2692, test_loss : 0.9603\n",
      "epoch : 28, train_loss : 0.2575, test_loss : 0.963\n",
      "epoch : 29, train_loss : 0.2465, test_loss : 0.9819\n"
     ]
    }
   ],
   "source": [
    "args = parser.parse_args('')\n",
    "args.device = torch.device('cpu')\n",
    "\n",
    "data_generator = Graph(train_df, test_df, user_le, movie_le, args.batch_size)\n",
    "\n",
    "plain_adj, norm_adj, mean_adj = data_generator.get_adj_mat()\n",
    "\n",
    "args.node_dropout = eval(args.node_dropout)\n",
    "args.mess_dropout = eval(args.mess_dropout)\n",
    "\n",
    "\n",
    "model = NGCF(data_generator.n_users,\n",
    "            data_generator.n_items,\n",
    "            norm_adj,\n",
    "            args).to(args.device)\n",
    "\n",
    "\n",
    "optimizer = optim.Adam(model.parameters(), lr = args.lr)\n",
    "\n",
    "train_dataset = CustomDataset(train_df)\n",
    "test_dataset = CustomDataset(test_df)\n",
    "\n",
    "train_dataloader = DataLoader(train_dataset, batch_size = args.batch_size, shuffle = True)\n",
    "test_dataloader = DataLoader(test_dataset, batch_size = args.batch_size, shuffle = True)\n",
    "\n",
    "train_loss_loger, test_loss_loger = [], []\n",
    "\n",
    "for epoch in range(args.epoch):\n",
    "    train_loss = 0\n",
    "    \n",
    "    model.train()\n",
    "    for users, items, labels in train_dataloader:\n",
    "        users_embedding, items_embedding = model(users, items)\n",
    "                \n",
    "        batch_loss = model.loss(users_embedding, items_embedding, labels)\n",
    "        optimizer.zero_grad()\n",
    "        batch_loss.backward()\n",
    "        optimizer.step()\n",
    "        train_loss += batch_loss.item()/len(train_dataloader)\n",
    "    \n",
    "    train_loss_loger.append(train_loss)\n",
    "    \n",
    "    test_loss = 0\n",
    "    with torch.no_grad():\n",
    "        model.eval()\n",
    "        for users, items, labels in test_dataloader:\n",
    "            users_embedding, items_embedding = model(users, items)\n",
    "            \n",
    "            batch_loss = model.loss(users_embedding, items_embedding, labels)\n",
    "            test_loss += batch_loss.item() / len(test_dataloader)\n",
    "\n",
    "        test_loss_loger.append(test_loss)\n",
    "        \n",
    "    print('epoch : {}, train_loss : {}, test_loss : {}'.format(epoch, round(train_loss, 4), round(test_loss, 4)))"
   ]
  },
  {
   "cell_type": "code",
   "execution_count": null,
   "id": "1cd0142d",
   "metadata": {},
   "outputs": [],
   "source": []
  }
 ],
 "metadata": {
  "kernelspec": {
   "display_name": "gnn_rec",
   "language": "python",
   "name": "gnn_rec"
  },
  "language_info": {
   "codemirror_mode": {
    "name": "ipython",
    "version": 3
   },
   "file_extension": ".py",
   "mimetype": "text/x-python",
   "name": "python",
   "nbconvert_exporter": "python",
   "pygments_lexer": "ipython3",
   "version": "3.9.7"
  }
 },
 "nbformat": 4,
 "nbformat_minor": 5
}
