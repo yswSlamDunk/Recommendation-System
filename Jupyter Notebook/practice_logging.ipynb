{
 "cells": [
  {
   "cell_type": "markdown",
   "id": "c556017b",
   "metadata": {},
   "source": [
    "https://hamait.tistory.com/880"
   ]
  },
  {
   "cell_type": "code",
   "execution_count": 22,
   "id": "00478466",
   "metadata": {},
   "outputs": [],
   "source": [
    "import json\n",
    "import os\n",
    "import logging\n",
    "import logging.config\n",
    "\n",
    "from pathlib import Path\n",
    "from collections import OrderedDict"
   ]
  },
  {
   "cell_type": "code",
   "execution_count": 11,
   "id": "53509d17",
   "metadata": {},
   "outputs": [],
   "source": [
    "def read_json(fname):\n",
    "    fname = Path(fname)\n",
    "    with fname.open('rt') as handle:\n",
    "        return json.load(handle, object_hook = OrderedDict)"
   ]
  },
  {
   "cell_type": "code",
   "execution_count": 16,
   "id": "d5b99c15",
   "metadata": {},
   "outputs": [],
   "source": [
    "path = 'logger_config.json'\n",
    "\n",
    "config = read_json(path)"
   ]
  },
  {
   "cell_type": "code",
   "execution_count": 17,
   "id": "1aba38a8",
   "metadata": {},
   "outputs": [
    {
     "data": {
      "text/plain": [
       "OrderedDict([('version', 1),\n",
       "             ('disable_existing_loggers', False),\n",
       "             ('formatters',\n",
       "              OrderedDict([('simple',\n",
       "                            OrderedDict([('format', '%(message)s')])),\n",
       "                           ('datetime',\n",
       "                            OrderedDict([('format',\n",
       "                                          '%(asctime)s - %(name)s - %(levelname)s - %(message)s')]))])),\n",
       "             ('handlers',\n",
       "              OrderedDict([('console',\n",
       "                            OrderedDict([('class', 'logging.StreamHandler'),\n",
       "                                         ('level', 'DEBUG'),\n",
       "                                         ('formatter', 'simple'),\n",
       "                                         ('stream', 'ext://sys.stdout')])),\n",
       "                           ('info_file_handler',\n",
       "                            OrderedDict([('class',\n",
       "                                          'logging.handlers.RotatingFileHandler'),\n",
       "                                         ('level', 'INFO'),\n",
       "                                         ('formatter', 'datetime'),\n",
       "                                         ('filename', 'info.log'),\n",
       "                                         ('maxBytes', 10485760),\n",
       "                                         ('backupCount', 20),\n",
       "                                         ('encoding', 'utf8')]))])),\n",
       "             ('root',\n",
       "              OrderedDict([('level', 'INFO'),\n",
       "                           ('handlers', ['console', 'info_file_handler'])]))])"
      ]
     },
     "execution_count": 17,
     "metadata": {},
     "output_type": "execute_result"
    }
   ],
   "source": [
    "config"
   ]
  },
  {
   "cell_type": "code",
   "execution_count": null,
   "id": "eebf7395",
   "metadata": {},
   "outputs": [],
   "source": []
  },
  {
   "cell_type": "code",
   "execution_count": 18,
   "id": "d94450a6",
   "metadata": {},
   "outputs": [],
   "source": [
    "config['handlers']['info_file_handler']['filename'] = 'asdf'"
   ]
  },
  {
   "cell_type": "code",
   "execution_count": 19,
   "id": "43e5b75b",
   "metadata": {},
   "outputs": [
    {
     "data": {
      "text/plain": [
       "OrderedDict([('version', 1),\n",
       "             ('disable_existing_loggers', False),\n",
       "             ('formatters',\n",
       "              OrderedDict([('simple',\n",
       "                            OrderedDict([('format', '%(message)s')])),\n",
       "                           ('datetime',\n",
       "                            OrderedDict([('format',\n",
       "                                          '%(asctime)s - %(name)s - %(levelname)s - %(message)s')]))])),\n",
       "             ('handlers',\n",
       "              OrderedDict([('console',\n",
       "                            OrderedDict([('class', 'logging.StreamHandler'),\n",
       "                                         ('level', 'DEBUG'),\n",
       "                                         ('formatter', 'simple'),\n",
       "                                         ('stream', 'ext://sys.stdout')])),\n",
       "                           ('info_file_handler',\n",
       "                            OrderedDict([('class',\n",
       "                                          'logging.handlers.RotatingFileHandler'),\n",
       "                                         ('level', 'INFO'),\n",
       "                                         ('formatter', 'datetime'),\n",
       "                                         ('filename', 'asdf'),\n",
       "                                         ('maxBytes', 10485760),\n",
       "                                         ('backupCount', 20),\n",
       "                                         ('encoding', 'utf8')]))])),\n",
       "             ('root',\n",
       "              OrderedDict([('level', 'INFO'),\n",
       "                           ('handlers', ['console', 'info_file_handler'])]))])"
      ]
     },
     "execution_count": 19,
     "metadata": {},
     "output_type": "execute_result"
    }
   ],
   "source": [
    "config"
   ]
  },
  {
   "cell_type": "code",
   "execution_count": null,
   "id": "bf6c85fc",
   "metadata": {},
   "outputs": [],
   "source": []
  },
  {
   "cell_type": "code",
   "execution_count": 20,
   "id": "e22af30f",
   "metadata": {},
   "outputs": [],
   "source": [
    "logger = logging.getLogger('test01')"
   ]
  },
  {
   "cell_type": "code",
   "execution_count": null,
   "id": "9a984987",
   "metadata": {},
   "outputs": [],
   "source": []
  },
  {
   "cell_type": "code",
   "execution_count": 23,
   "id": "5d029cc1",
   "metadata": {},
   "outputs": [
    {
     "ename": "NameError",
     "evalue": "name 'save_dir' is not defined",
     "output_type": "error",
     "traceback": [
      "\u001b[0;31m---------------------------------------------------------------------------\u001b[0m",
      "\u001b[0;31mNameError\u001b[0m                                 Traceback (most recent call last)",
      "Input \u001b[0;32mIn [23]\u001b[0m, in \u001b[0;36m<cell line: 1>\u001b[0;34m()\u001b[0m\n\u001b[1;32m      1\u001b[0m \u001b[38;5;28;01mfor\u001b[39;00m _, handler \u001b[38;5;129;01min\u001b[39;00m config[\u001b[38;5;124m'\u001b[39m\u001b[38;5;124mhandlers\u001b[39m\u001b[38;5;124m'\u001b[39m]\u001b[38;5;241m.\u001b[39mitems():\n\u001b[1;32m      2\u001b[0m     \u001b[38;5;28;01mif\u001b[39;00m \u001b[38;5;124m'\u001b[39m\u001b[38;5;124mfilename\u001b[39m\u001b[38;5;124m'\u001b[39m \u001b[38;5;129;01min\u001b[39;00m handler:\n\u001b[0;32m----> 3\u001b[0m         handler[\u001b[38;5;124m'\u001b[39m\u001b[38;5;124mfilename\u001b[39m\u001b[38;5;124m'\u001b[39m] \u001b[38;5;241m=\u001b[39m \u001b[38;5;28mstr\u001b[39m(\u001b[43msave_dir\u001b[49m \u001b[38;5;241m/\u001b[39m handler[\u001b[38;5;124m'\u001b[39m\u001b[38;5;124mfilename\u001b[39m\u001b[38;5;124m'\u001b[39m])\n\u001b[1;32m      5\u001b[0m     logging\u001b[38;5;241m.\u001b[39mconfig\u001b[38;5;241m.\u001b[39mdictConfig(config)\n",
      "\u001b[0;31mNameError\u001b[0m: name 'save_dir' is not defined"
     ]
    }
   ],
   "source": [
    "for _, handler in config['handlers'].items():\n",
    "    if 'filename' in handler:\n",
    "        handler['filename'] = str(save_dir / handler['filename'])\n",
    "        \n",
    "    logging.config.dictConfig(config)"
   ]
  },
  {
   "cell_type": "code",
   "execution_count": null,
   "id": "8cf55296",
   "metadata": {},
   "outputs": [],
   "source": []
  },
  {
   "cell_type": "code",
   "execution_count": null,
   "id": "718594b6",
   "metadata": {},
   "outputs": [],
   "source": []
  },
  {
   "cell_type": "code",
   "execution_count": null,
   "id": "87926802",
   "metadata": {},
   "outputs": [],
   "source": []
  },
  {
   "cell_type": "code",
   "execution_count": null,
   "id": "b68fa832",
   "metadata": {},
   "outputs": [],
   "source": []
  },
  {
   "cell_type": "code",
   "execution_count": null,
   "id": "5c7e40b0",
   "metadata": {},
   "outputs": [],
   "source": []
  },
  {
   "cell_type": "code",
   "execution_count": null,
   "id": "804b095e",
   "metadata": {},
   "outputs": [],
   "source": []
  },
  {
   "cell_type": "code",
   "execution_count": null,
   "id": "28f194ce",
   "metadata": {},
   "outputs": [],
   "source": []
  },
  {
   "cell_type": "code",
   "execution_count": null,
   "id": "d3203053",
   "metadata": {},
   "outputs": [],
   "source": []
  }
 ],
 "metadata": {
  "kernelspec": {
   "display_name": "gnn_rec",
   "language": "python",
   "name": "gnn_rec"
  },
  "language_info": {
   "codemirror_mode": {
    "name": "ipython",
    "version": 3
   },
   "file_extension": ".py",
   "mimetype": "text/x-python",
   "name": "python",
   "nbconvert_exporter": "python",
   "pygments_lexer": "ipython3",
   "version": "3.9.12"
  }
 },
 "nbformat": 4,
 "nbformat_minor": 5
}
