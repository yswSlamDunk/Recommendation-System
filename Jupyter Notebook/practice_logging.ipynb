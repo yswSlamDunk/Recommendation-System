{
 "cells": [
  {
   "cell_type": "markdown",
   "id": "c556017b",
   "metadata": {},
   "source": [
    "https://hamait.tistory.com/880"
   ]
  },
  {
   "cell_type": "code",
   "execution_count": null,
   "id": "056d2ed8",
   "metadata": {},
   "outputs": [],
   "source": []
  },
  {
   "cell_type": "code",
   "execution_count": 1,
   "id": "00478466",
   "metadata": {},
   "outputs": [],
   "source": [
    "import logging"
   ]
  },
  {
   "cell_type": "code",
   "execution_count": 2,
   "id": "9b4bbca5",
   "metadata": {},
   "outputs": [
    {
     "name": "stderr",
     "output_type": "stream",
     "text": [
      "ERROR:root:logging start\n"
     ]
    }
   ],
   "source": [
    "logging.error('logging start')"
   ]
  },
  {
   "cell_type": "code",
   "execution_count": 3,
   "id": "b6178309",
   "metadata": {},
   "outputs": [],
   "source": [
    "logging.info('logging start2')"
   ]
  },
  {
   "cell_type": "code",
   "execution_count": 4,
   "id": "2073b761",
   "metadata": {},
   "outputs": [],
   "source": [
    "mylogger = logging.getLogger('practice01')"
   ]
  },
  {
   "cell_type": "code",
   "execution_count": 5,
   "id": "2e5e9f9b",
   "metadata": {},
   "outputs": [],
   "source": [
    "mylogger.setLevel(logging.INFO)"
   ]
  },
  {
   "cell_type": "code",
   "execution_count": 6,
   "id": "4e045a36",
   "metadata": {},
   "outputs": [
    {
     "name": "stderr",
     "output_type": "stream",
     "text": [
      "INFO:practice01:출력이 되나?\n"
     ]
    }
   ],
   "source": [
    "mylogger.info('출력이 되나?')"
   ]
  },
  {
   "cell_type": "code",
   "execution_count": null,
   "id": "c472a52d",
   "metadata": {},
   "outputs": [],
   "source": []
  },
  {
   "cell_type": "code",
   "execution_count": null,
   "id": "23edb465",
   "metadata": {},
   "outputs": [],
   "source": []
  },
  {
   "cell_type": "code",
   "execution_count": 7,
   "id": "9f9773e8",
   "metadata": {},
   "outputs": [
    {
     "name": "stderr",
     "output_type": "stream",
     "text": [
      "뭐냐 hander는?\n",
      "INFO:my:뭐냐 hander는?\n"
     ]
    }
   ],
   "source": [
    "mylogger = logging.getLogger('my')\n",
    "mylogger.setLevel(logging.INFO)\n",
    "\n",
    "stream_hander = logging.StreamHandler()\n",
    "mylogger.addHandler(stream_hander)\n",
    "\n",
    "mylogger.info('뭐냐 hander는?')"
   ]
  },
  {
   "cell_type": "markdown",
   "id": "ff6b87ec",
   "metadata": {},
   "source": [
    "핸들러란 내가 로깅한 정보가 출력되는 위치를 설정하는 것"
   ]
  },
  {
   "cell_type": "code",
   "execution_count": 8,
   "id": "7898de6e",
   "metadata": {},
   "outputs": [
    {
     "name": "stderr",
     "output_type": "stream",
     "text": [
      "server start!!!\n",
      "server start!!!\n",
      "INFO:my:server start!!!\n"
     ]
    }
   ],
   "source": [
    "mylogger = logging.getLogger('my')\n",
    "mylogger.setLevel(logging.INFO)\n",
    "\n",
    "stream_hander = logging.StreamHandler()\n",
    "mylogger.addHandler(stream_hander)\n",
    "\n",
    "file_handler = logging.FileHandler('my.log')\n",
    "mylogger.addHandler(file_handler)\n",
    "\n",
    "mylogger.info('server start!!!')"
   ]
  },
  {
   "cell_type": "markdown",
   "id": "448693e6",
   "metadata": {},
   "source": [
    "포매팅(formatter란) 로그 데이터의 형식 설정하는 것"
   ]
  },
  {
   "cell_type": "code",
   "execution_count": 9,
   "id": "3837d75c",
   "metadata": {},
   "outputs": [
    {
     "name": "stderr",
     "output_type": "stream",
     "text": [
      "asdf\n",
      "asdf\n",
      "2022-05-02 17:55:02,164 - my - INFO - asdf\n",
      "INFO:my:asdf\n"
     ]
    }
   ],
   "source": [
    "mylogger = logging.getLogger('my')\n",
    "mylogger.setLevel(logging.INFO)\n",
    "\n",
    "formatter = logging.Formatter('%(asctime)s - %(name)s - %(levelname)s - %(message)s')\n",
    "\n",
    "stream_hander = logging.StreamHandler()\n",
    "stream_hander.setFormatter(formatter)\n",
    "mylogger.addHandler(stream_hander)\n",
    "\n",
    "file_handler = logging.FileHandler('my.log')\n",
    "mylogger.addHandler(file_handler)\n",
    "\n",
    "mylogger.info('asdf')"
   ]
  },
  {
   "cell_type": "code",
   "execution_count": null,
   "id": "43c67882",
   "metadata": {},
   "outputs": [],
   "source": []
  }
 ],
 "metadata": {
  "kernelspec": {
   "display_name": "gnn_rec",
   "language": "python",
   "name": "gnn_rec"
  },
  "language_info": {
   "codemirror_mode": {
    "name": "ipython",
    "version": 3
   },
   "file_extension": ".py",
   "mimetype": "text/x-python",
   "name": "python",
   "nbconvert_exporter": "python",
   "pygments_lexer": "ipython3",
   "version": "3.9.12"
  }
 },
 "nbformat": 4,
 "nbformat_minor": 5
}
