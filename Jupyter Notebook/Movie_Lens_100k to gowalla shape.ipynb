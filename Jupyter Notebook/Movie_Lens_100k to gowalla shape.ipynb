{
 "cells": [
  {
   "cell_type": "code",
   "execution_count": 34,
   "id": "ea2501da",
   "metadata": {},
   "outputs": [],
   "source": [
    "import os\n",
    "import pandas as pd\n",
    "import numpy as np\n",
    "\n",
    "from sklearn.preprocessing import LabelEncoder"
   ]
  },
  {
   "cell_type": "code",
   "execution_count": 2,
   "id": "722a1ff5",
   "metadata": {},
   "outputs": [],
   "source": [
    "path = '../Data/Movie_Lens_100k'"
   ]
  },
  {
   "cell_type": "code",
   "execution_count": 10,
   "id": "a2a1fe96",
   "metadata": {},
   "outputs": [],
   "source": [
    "train_df = pd.read_csv(os.path.join(path, 'ua.base'), sep = '\\t', names = ['user_id', 'movie_id', 'rating', 'timestamp'])\n",
    "test_df = pd.read_csv(os.path.join(path, 'ua.test'), sep = '\\t', names = ['user_id', 'movie_id', 'rating', 'timestamp'])"
   ]
  },
  {
   "cell_type": "code",
   "execution_count": null,
   "id": "47a84a88",
   "metadata": {},
   "outputs": [],
   "source": []
  },
  {
   "cell_type": "markdown",
   "id": "013cb353",
   "metadata": {},
   "source": [
    "#### train, test unique 비교"
   ]
  },
  {
   "cell_type": "code",
   "execution_count": 18,
   "id": "059ec093",
   "metadata": {},
   "outputs": [],
   "source": [
    "train_user_unique = train_df['user_id'].unique()"
   ]
  },
  {
   "cell_type": "code",
   "execution_count": 22,
   "id": "9548e030",
   "metadata": {},
   "outputs": [
    {
     "data": {
      "text/plain": [
       "set()"
      ]
     },
     "execution_count": 22,
     "metadata": {},
     "output_type": "execute_result"
    }
   ],
   "source": [
    "set(test_df['user_id'].unique().flatten()) - set(train_df['user_id'].unique().flatten())"
   ]
  },
  {
   "cell_type": "code",
   "execution_count": 24,
   "id": "a75eee90",
   "metadata": {},
   "outputs": [],
   "source": [
    "test_only_movie = list(set(test_df['movie_id'].unique().flatten()) - set(train_df['movie_id'].unique().flatten()))"
   ]
  },
  {
   "cell_type": "code",
   "execution_count": 25,
   "id": "09b60dd1",
   "metadata": {},
   "outputs": [
    {
     "data": {
      "text/plain": [
       "[1653, 1582]"
      ]
     },
     "execution_count": 25,
     "metadata": {},
     "output_type": "execute_result"
    }
   ],
   "source": [
    "test_only_movie"
   ]
  },
  {
   "cell_type": "code",
   "execution_count": 28,
   "id": "defc8ced",
   "metadata": {},
   "outputs": [],
   "source": [
    "test_df = test_df[~test_df['movie_id'].isin(test_only_movie)]"
   ]
  },
  {
   "cell_type": "markdown",
   "id": "841242b9",
   "metadata": {},
   "source": [
    "#### Label Encoder"
   ]
  },
  {
   "cell_type": "code",
   "execution_count": 36,
   "id": "ee1e526c",
   "metadata": {
    "collapsed": true
   },
   "outputs": [
    {
     "name": "stderr",
     "output_type": "stream",
     "text": [
      "/tmp/ipykernel_5626/2380308314.py:10: SettingWithCopyWarning: \n",
      "A value is trying to be set on a copy of a slice from a DataFrame.\n",
      "Try using .loc[row_indexer,col_indexer] = value instead\n",
      "\n",
      "See the caveats in the documentation: https://pandas.pydata.org/pandas-docs/stable/user_guide/indexing.html#returning-a-view-versus-a-copy\n",
      "  test_df['user_id'] = user_le.transform(test_df['user_id'])\n",
      "/tmp/ipykernel_5626/2380308314.py:11: SettingWithCopyWarning: \n",
      "A value is trying to be set on a copy of a slice from a DataFrame.\n",
      "Try using .loc[row_indexer,col_indexer] = value instead\n",
      "\n",
      "See the caveats in the documentation: https://pandas.pydata.org/pandas-docs/stable/user_guide/indexing.html#returning-a-view-versus-a-copy\n",
      "  test_df['movie_id'] = movie_le.transform(test_df['movie_id'])\n"
     ]
    }
   ],
   "source": [
    "user_le = LabelEncoder()\n",
    "movie_le = LabelEncoder()\n",
    "\n",
    "user_le.fit(train_df['user_id'])\n",
    "movie_le.fit(train_df['movie_id'])\n",
    "\n",
    "train_df['user_id'] = user_le.transform(train_df['user_id'])\n",
    "train_df['movie_id'] = movie_le.transform(train_df['movie_id'])\n",
    "\n",
    "test_df['user_id'] = user_le.transform(test_df['user_id'])\n",
    "test_df['movie_id'] = movie_le.transform(test_df['movie_id'])"
   ]
  },
  {
   "cell_type": "markdown",
   "id": "e0f83caa",
   "metadata": {},
   "source": [
    "#### train.txt, test.txt, train_label.txt, test_label.txt 생성"
   ]
  },
  {
   "cell_type": "code",
   "execution_count": 70,
   "id": "dce02b74",
   "metadata": {},
   "outputs": [],
   "source": [
    "with open(os.path.join(path, 'train.txt'), 'a') as train_f:\n",
    "    for user_id, movie_id in zip(train_df['user_id'].unique(), train_df.groupby(['user_id'])['movie_id'].unique()):\n",
    "        movie_id = movie_id.astype(str)        \n",
    "        train_f.write(str(user_id) + ' ' + ' '.join(list(movie_id)) + '\\n')     "
   ]
  },
  {
   "cell_type": "code",
   "execution_count": 72,
   "id": "f2d71375",
   "metadata": {},
   "outputs": [],
   "source": [
    "with open(os.path.join(path, 'test.txt'), 'a') as test_f:\n",
    "    for user_id, movie_id in zip(test_df['user_id'].unique(), test_df.groupby(['user_id'])['movie_id'].unique()):\n",
    "        movie_id = movie_id.astype(str)        \n",
    "        test_f.write(str(user_id) + ' ' + ' '.join(list(movie_id)) + '\\n')"
   ]
  },
  {
   "cell_type": "code",
   "execution_count": 88,
   "id": "aeaad732",
   "metadata": {},
   "outputs": [],
   "source": [
    "train_df = train_df.sort_values(by = ['user_id', 'movie_id'])"
   ]
  },
  {
   "cell_type": "code",
   "execution_count": 100,
   "id": "3d43fdef",
   "metadata": {},
   "outputs": [],
   "source": [
    "with open(os.path.join(path, 'train_label.txt'), 'a') as train_f:\n",
    "    for user_id in train_df['user_id'].unique():\n",
    "        ratings = train_df[train_df['user_id'] == user_id]['rating'].values.astype(str)        \n",
    "        train_f.write(str(user_id) + ' ' + ' '.join(list(ratings)) + '\\n')"
   ]
  },
  {
   "cell_type": "code",
   "execution_count": 101,
   "id": "27d6ca0b",
   "metadata": {},
   "outputs": [],
   "source": [
    "test_df = test_df.sort_values(by = ['user_id', 'movie_id'])"
   ]
  },
  {
   "cell_type": "code",
   "execution_count": 102,
   "id": "11650366",
   "metadata": {},
   "outputs": [],
   "source": [
    "with open(os.path.join(path, 'test_label.txt'), 'a') as test_f:\n",
    "    for user_id in test_df['user_id'].unique():\n",
    "        ratings = test_df[test_df['user_id'] == user_id]['rating'].values.astype(str)\n",
    "        test_f.write(str(user_id) + ' ' + ' '.join(list(ratings)) + '\\n')"
   ]
  },
  {
   "cell_type": "code",
   "execution_count": null,
   "id": "17378d2d",
   "metadata": {},
   "outputs": [],
   "source": []
  }
 ],
 "metadata": {
  "kernelspec": {
   "display_name": "gnn_rec",
   "language": "python",
   "name": "gnn_rec"
  },
  "language_info": {
   "codemirror_mode": {
    "name": "ipython",
    "version": 3
   },
   "file_extension": ".py",
   "mimetype": "text/x-python",
   "name": "python",
   "nbconvert_exporter": "python",
   "pygments_lexer": "ipython3",
   "version": "3.9.7"
  }
 },
 "nbformat": 4,
 "nbformat_minor": 5
}
