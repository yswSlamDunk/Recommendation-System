{
 "cells": [
  {
   "cell_type": "code",
   "execution_count": 1,
   "id": "bf40c885",
   "metadata": {},
   "outputs": [],
   "source": [
    "import os\n",
    "import pandas as pd\n",
    "import numpy as np\n",
    "import scipy.sparse as sp\n",
    "import argparse\n",
    "\n",
    "from sklearn.preprocessing import LabelEncoder"
   ]
  },
  {
   "cell_type": "markdown",
   "id": "8cee679f",
   "metadata": {},
   "source": [
    "# 전처리"
   ]
  },
  {
   "cell_type": "code",
   "execution_count": 2,
   "id": "45826875",
   "metadata": {},
   "outputs": [],
   "source": [
    "path = '../Data/Book_Crossing/BX-Book-Ratings.csv'"
   ]
  },
  {
   "cell_type": "code",
   "execution_count": 18,
   "id": "dd6acd6f",
   "metadata": {},
   "outputs": [],
   "source": [
    "dataframe = pd.read_csv(path, encoding = 'latin1', on_bad_lines = 'skip', sep = ';', header = 0)"
   ]
  },
  {
   "cell_type": "code",
   "execution_count": 19,
   "id": "c6184c50",
   "metadata": {},
   "outputs": [
    {
     "data": {
      "text/html": [
       "<div>\n",
       "<style scoped>\n",
       "    .dataframe tbody tr th:only-of-type {\n",
       "        vertical-align: middle;\n",
       "    }\n",
       "\n",
       "    .dataframe tbody tr th {\n",
       "        vertical-align: top;\n",
       "    }\n",
       "\n",
       "    .dataframe thead th {\n",
       "        text-align: right;\n",
       "    }\n",
       "</style>\n",
       "<table border=\"1\" class=\"dataframe\">\n",
       "  <thead>\n",
       "    <tr style=\"text-align: right;\">\n",
       "      <th></th>\n",
       "      <th>User-ID</th>\n",
       "      <th>ISBN</th>\n",
       "      <th>Book-Rating</th>\n",
       "    </tr>\n",
       "  </thead>\n",
       "  <tbody>\n",
       "    <tr>\n",
       "      <th>0</th>\n",
       "      <td>276725</td>\n",
       "      <td>034545104X</td>\n",
       "      <td>0</td>\n",
       "    </tr>\n",
       "    <tr>\n",
       "      <th>1</th>\n",
       "      <td>276726</td>\n",
       "      <td>0155061224</td>\n",
       "      <td>5</td>\n",
       "    </tr>\n",
       "    <tr>\n",
       "      <th>2</th>\n",
       "      <td>276727</td>\n",
       "      <td>0446520802</td>\n",
       "      <td>0</td>\n",
       "    </tr>\n",
       "    <tr>\n",
       "      <th>3</th>\n",
       "      <td>276729</td>\n",
       "      <td>052165615X</td>\n",
       "      <td>3</td>\n",
       "    </tr>\n",
       "    <tr>\n",
       "      <th>4</th>\n",
       "      <td>276729</td>\n",
       "      <td>0521795028</td>\n",
       "      <td>6</td>\n",
       "    </tr>\n",
       "  </tbody>\n",
       "</table>\n",
       "</div>"
      ],
      "text/plain": [
       "   User-ID        ISBN  Book-Rating\n",
       "0   276725  034545104X            0\n",
       "1   276726  0155061224            5\n",
       "2   276727  0446520802            0\n",
       "3   276729  052165615X            3\n",
       "4   276729  0521795028            6"
      ]
     },
     "execution_count": 19,
     "metadata": {},
     "output_type": "execute_result"
    }
   ],
   "source": [
    "dataframe.head()"
   ]
  },
  {
   "cell_type": "code",
   "execution_count": null,
   "id": "1201d42d",
   "metadata": {},
   "outputs": [],
   "source": []
  },
  {
   "cell_type": "code",
   "execution_count": 20,
   "id": "a7dd7d81",
   "metadata": {},
   "outputs": [
    {
     "data": {
      "text/plain": [
       "340556"
      ]
     },
     "execution_count": 20,
     "metadata": {},
     "output_type": "execute_result"
    }
   ],
   "source": [
    "dataframe['ISBN'].nunique() "
   ]
  },
  {
   "cell_type": "code",
   "execution_count": 21,
   "id": "7543371d",
   "metadata": {},
   "outputs": [
    {
     "data": {
      "text/plain": [
       "ISBN\n",
       " 0330299891    2\n",
       " 0375404120    2\n",
       " 0586045007    1\n",
       " 9022906116    2\n",
       " 9032803328    1\n",
       "              ..\n",
       "cn113107       1\n",
       "ooo7156103     1\n",
       "§423350229     1\n",
       "´3499128624    1\n",
       "Ô½crosoft      1\n",
       "Name: Book-Rating, Length: 340556, dtype: int64"
      ]
     },
     "execution_count": 21,
     "metadata": {},
     "output_type": "execute_result"
    }
   ],
   "source": [
    "dataframe.groupby(['ISBN'])['Book-Rating'].nunique()"
   ]
  },
  {
   "cell_type": "code",
   "execution_count": 22,
   "id": "ddf87e28",
   "metadata": {},
   "outputs": [
    {
     "data": {
      "text/plain": [
       "User-ID\n",
       "2          1\n",
       "7          1\n",
       "8         18\n",
       "9          3\n",
       "10         2\n",
       "          ..\n",
       "278846     2\n",
       "278849     4\n",
       "278851    23\n",
       "278852     1\n",
       "278854     8\n",
       "Name: ISBN, Length: 105283, dtype: int64"
      ]
     },
     "execution_count": 22,
     "metadata": {},
     "output_type": "execute_result"
    }
   ],
   "source": [
    "dataframe.groupby(['User-ID'])['ISBN'].nunique()"
   ]
  },
  {
   "cell_type": "markdown",
   "id": "964d62d0",
   "metadata": {},
   "source": [
    "#### 0점에 관한 결론\n",
    "\n",
    "0점은 최하점으로 추정됨\n",
    "\n",
    "0점은 책을 읽지 않았다 라고 생각하면 안됨"
   ]
  },
  {
   "cell_type": "code",
   "execution_count": 24,
   "id": "e8d291db",
   "metadata": {},
   "outputs": [],
   "source": [
    "user_le = LabelEncoder()"
   ]
  },
  {
   "cell_type": "code",
   "execution_count": 26,
   "id": "2ae384a0",
   "metadata": {},
   "outputs": [],
   "source": [
    "user_le = user_le.fit(dataframe['User-ID'])"
   ]
  },
  {
   "cell_type": "code",
   "execution_count": 28,
   "id": "ae7e37bf",
   "metadata": {},
   "outputs": [
    {
     "data": {
      "text/plain": [
       "105283"
      ]
     },
     "execution_count": 28,
     "metadata": {},
     "output_type": "execute_result"
    }
   ],
   "source": [
    "len(user_le.classes_)"
   ]
  },
  {
   "cell_type": "code",
   "execution_count": null,
   "id": "f971d5e3",
   "metadata": {},
   "outputs": [],
   "source": []
  }
 ],
 "metadata": {
  "kernelspec": {
   "display_name": "gnn_rec",
   "language": "python",
   "name": "gnn_rec"
  },
  "language_info": {
   "codemirror_mode": {
    "name": "ipython",
    "version": 3
   },
   "file_extension": ".py",
   "mimetype": "text/x-python",
   "name": "python",
   "nbconvert_exporter": "python",
   "pygments_lexer": "ipython3",
   "version": "3.9.12"
  }
 },
 "nbformat": 4,
 "nbformat_minor": 5
}
