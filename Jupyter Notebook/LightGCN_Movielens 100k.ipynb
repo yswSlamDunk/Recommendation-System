{
 "cells": [
  {
   "cell_type": "markdown",
   "id": "7e14ed22",
   "metadata": {},
   "source": [
    "https://github.com/bladejun/Recommend_System_Pytorch/blob/1fd0823696df8e224fa6a1fbc78ba13cfa450b82/models/LightGCN.py\n",
    "\n",
    "https://github.com/apat1n/LightGCN-Pytorch/blob/master/train.py"
   ]
  },
  {
   "cell_type": "code",
   "execution_count": 1,
   "id": "e2045150",
   "metadata": {},
   "outputs": [],
   "source": [
    "import os\n",
    "import pandas as pd\n",
    "import numpy as np\n",
    "import scipy.sparse as sp\n",
    "import argparse\n",
    "\n",
    "from sklearn.preprocessing import LabelEncoder\n",
    "\n",
    "import torch\n",
    "import torch.nn as nn\n",
    "import torch.nn.functional as F\n",
    "import torch.optim as optim\n",
    "from torch.utils.data import Dataset, DataLoader"
   ]
  },
  {
   "cell_type": "markdown",
   "id": "f7ebb4c2",
   "metadata": {},
   "source": [
    "# 전처리"
   ]
  },
  {
   "cell_type": "code",
   "execution_count": 2,
   "id": "2e3432cb",
   "metadata": {},
   "outputs": [],
   "source": [
    "path = '../Data/Movie_Lens_100k'"
   ]
  },
  {
   "cell_type": "code",
   "execution_count": 3,
   "id": "a501baf2",
   "metadata": {},
   "outputs": [],
   "source": [
    "train_df = pd.read_csv(os.path.join(path, 'ua.base'), sep = '\\t', names = ['user_id', 'movie_id', 'rating', 'timestamp'])\n",
    "test_df = pd.read_csv(os.path.join(path, 'ua.test'), sep = '\\t', names = ['user_id', 'movie_id', 'rating', 'timestamp'])"
   ]
  },
  {
   "cell_type": "code",
   "execution_count": 4,
   "id": "94875137",
   "metadata": {},
   "outputs": [],
   "source": [
    "test_only_movie = list(set(test_df['movie_id'].unique().flatten()) - set(train_df['movie_id'].unique().flatten()))\n",
    "test_df = test_df[~test_df['movie_id'].isin(test_only_movie)]"
   ]
  },
  {
   "cell_type": "markdown",
   "id": "75c8b956",
   "metadata": {},
   "source": [
    "### Label Encoder"
   ]
  },
  {
   "cell_type": "code",
   "execution_count": 5,
   "id": "b0640955",
   "metadata": {},
   "outputs": [],
   "source": [
    "user_le = LabelEncoder()\n",
    "movie_le = LabelEncoder()\n",
    "\n",
    "user_le.fit(train_df['user_id'])\n",
    "movie_le.fit(train_df['movie_id'])\n",
    "\n",
    "train_df['movie_id'] = movie_le.transform(train_df['movie_id'])\n",
    "train_df['user_id'] = user_le.transform(train_df['user_id'])\n",
    "\n",
    "test_df['movie_id'] = movie_le.transform(test_df['movie_id'])\n",
    "test_df['user_id'] = user_le.transform(test_df['user_id'])"
   ]
  },
  {
   "cell_type": "code",
   "execution_count": 6,
   "id": "2c784516",
   "metadata": {},
   "outputs": [
    {
     "data": {
      "text/plain": [
       "array([[   0,    0],\n",
       "       [   0,    1],\n",
       "       [   0,    2],\n",
       "       ...,\n",
       "       [ 942, 1187],\n",
       "       [ 942, 1227],\n",
       "       [ 942, 1329]])"
      ]
     },
     "execution_count": 6,
     "metadata": {},
     "output_type": "execute_result"
    }
   ],
   "source": [
    "train_df[['user_id', 'movie_id']].values"
   ]
  },
  {
   "cell_type": "code",
   "execution_count": null,
   "id": "bfd8ca0a",
   "metadata": {},
   "outputs": [],
   "source": []
  },
  {
   "cell_type": "code",
   "execution_count": 8,
   "id": "3bc46e24",
   "metadata": {},
   "outputs": [
    {
     "data": {
      "text/html": [
       "<div>\n",
       "<style scoped>\n",
       "    .dataframe tbody tr th:only-of-type {\n",
       "        vertical-align: middle;\n",
       "    }\n",
       "\n",
       "    .dataframe tbody tr th {\n",
       "        vertical-align: top;\n",
       "    }\n",
       "\n",
       "    .dataframe thead th {\n",
       "        text-align: right;\n",
       "    }\n",
       "</style>\n",
       "<table border=\"1\" class=\"dataframe\">\n",
       "  <thead>\n",
       "    <tr style=\"text-align: right;\">\n",
       "      <th></th>\n",
       "      <th>user_id</th>\n",
       "      <th>movie_id</th>\n",
       "      <th>rating</th>\n",
       "    </tr>\n",
       "  </thead>\n",
       "  <tbody>\n",
       "    <tr>\n",
       "      <th>0</th>\n",
       "      <td>0</td>\n",
       "      <td>0</td>\n",
       "      <td>5</td>\n",
       "    </tr>\n",
       "    <tr>\n",
       "      <th>1</th>\n",
       "      <td>0</td>\n",
       "      <td>1</td>\n",
       "      <td>3</td>\n",
       "    </tr>\n",
       "    <tr>\n",
       "      <th>2</th>\n",
       "      <td>0</td>\n",
       "      <td>2</td>\n",
       "      <td>4</td>\n",
       "    </tr>\n",
       "    <tr>\n",
       "      <th>3</th>\n",
       "      <td>0</td>\n",
       "      <td>3</td>\n",
       "      <td>3</td>\n",
       "    </tr>\n",
       "    <tr>\n",
       "      <th>4</th>\n",
       "      <td>0</td>\n",
       "      <td>4</td>\n",
       "      <td>3</td>\n",
       "    </tr>\n",
       "  </tbody>\n",
       "</table>\n",
       "</div>"
      ],
      "text/plain": [
       "   user_id  movie_id  rating\n",
       "0        0         0       5\n",
       "1        0         1       3\n",
       "2        0         2       4\n",
       "3        0         3       3\n",
       "4        0         4       3"
      ]
     },
     "execution_count": 8,
     "metadata": {},
     "output_type": "execute_result"
    }
   ],
   "source": [
    "tmp_train = train_df[['user_id', 'movie_id', 'rating']]\n",
    "tmp_train.head()"
   ]
  },
  {
   "cell_type": "code",
   "execution_count": 11,
   "id": "88fdaad4",
   "metadata": {},
   "outputs": [],
   "source": [
    "csr_train = sp.csr_matrix(tmp_train)"
   ]
  },
  {
   "cell_type": "code",
   "execution_count": 14,
   "id": "ec79831e",
   "metadata": {},
   "outputs": [
    {
     "name": "stdout",
     "output_type": "stream",
     "text": [
      "  (0, 2)\t5\n",
      "  (1, 1)\t1\n",
      "  (1, 2)\t3\n",
      "  (2, 1)\t2\n",
      "  (2, 2)\t4\n",
      "  (3, 1)\t3\n",
      "  (3, 2)\t3\n",
      "  (4, 1)\t4\n",
      "  (4, 2)\t3\n",
      "  (5, 1)\t5\n",
      "  (5, 2)\t5\n",
      "  (6, 1)\t6\n",
      "  (6, 2)\t4\n",
      "  (7, 1)\t7\n",
      "  (7, 2)\t1\n",
      "  (8, 1)\t8\n",
      "  (8, 2)\t5\n",
      "  (9, 1)\t9\n",
      "  (9, 2)\t3\n",
      "  (10, 1)\t10\n",
      "  (10, 2)\t2\n",
      "  (11, 1)\t11\n",
      "  (11, 2)\t5\n",
      "  (12, 1)\t12\n",
      "  (12, 2)\t5\n",
      "  :\t:\n",
      "  (90561, 2)\t5\n",
      "  (90562, 0)\t942\n",
      "  (90562, 1)\t1010\n",
      "  (90562, 2)\t2\n",
      "  (90563, 0)\t942\n",
      "  (90563, 1)\t1027\n",
      "  (90563, 2)\t2\n",
      "  (90564, 0)\t942\n",
      "  (90564, 1)\t1043\n",
      "  (90564, 2)\t3\n",
      "  (90565, 0)\t942\n",
      "  (90565, 1)\t1046\n",
      "  (90565, 2)\t2\n",
      "  (90566, 0)\t942\n",
      "  (90566, 1)\t1073\n",
      "  (90566, 2)\t4\n",
      "  (90567, 0)\t942\n",
      "  (90567, 1)\t1187\n",
      "  (90567, 2)\t3\n",
      "  (90568, 0)\t942\n",
      "  (90568, 1)\t1227\n",
      "  (90568, 2)\t3\n",
      "  (90569, 0)\t942\n",
      "  (90569, 1)\t1329\n",
      "  (90569, 2)\t3\n"
     ]
    }
   ],
   "source": [
    "print(csr_train)"
   ]
  },
  {
   "cell_type": "code",
   "execution_count": null,
   "id": "f5a2e44c",
   "metadata": {},
   "outputs": [],
   "source": []
  },
  {
   "cell_type": "markdown",
   "id": "78722208",
   "metadata": {},
   "source": [
    "# LightGCN"
   ]
  },
  {
   "cell_type": "code",
   "execution_count": 146,
   "id": "f9c3d179",
   "metadata": {},
   "outputs": [],
   "source": [
    "class LightGCN(nn.Module):\n",
    "    def __init__(self, n_user, n_item, args, train_df):\n",
    "        super(LightGCN, self).__init__()\n",
    "        self.n_user = n_user\n",
    "        self.n_item = n_item\n",
    "        self.device = args.device\n",
    "        self.emb_size = args.embed_size\n",
    "        self.batch_size = args.batch_size\n",
    "        self.num_layers = args.num_layers\n",
    "        self.node_dropout = args.node_dropout\n",
    "        \n",
    "        self.split = args.split\n",
    "        self.num_folds = args.num_folds\n",
    "        self.reg = args.reg\n",
    "        \n",
    "        self.make_train_matrix(train_df)\n",
    "        \n",
    "        self.Graph = self.getSparseGraph()\n",
    "        self.data_loader = None # 이거는 추후에 확인할 필요 있음\n",
    "        \n",
    "        self.build_graph()\n",
    "    \n",
    "    def make_train_matrix(self, train_df):\n",
    "        rows, cols = train_df['user_id'], train_df['movie_id']\n",
    "        values = train_df['rating']\n",
    "        \n",
    "        sp_data = sp.csr_matrix((values, (rows, cols)), dtype = 'float64', shape = (self.n_user, self.n_item))\n",
    "        \n",
    "        self.train_matrix = sp_data\n",
    "    \n",
    "    def build_graph(self):\n",
    "        self.user_embedding = nn.Embedding(self.n_user, self.emb_size)\n",
    "        self.item_embedding = nn.Embedding(self.n_item, self.emb_size)\n",
    "        \n",
    "        # weight initalization\n",
    "        nn.init.normal_(self.user_embedding.weight, 0, 0.01)\n",
    "        nn.init.normal_(self.item_embedding.weight, 0, 0.01)\n",
    "        \n",
    "        self.to(self.device)\n",
    "        \n",
    "    def lightgcn_embedding(self, graph):\n",
    "        users_emb = self.user_embedding.weight\n",
    "        items_emb = self.item_embedding.weight\n",
    "        all_emb = torch.cat([users_emb, items_emb], dim = 0)\n",
    "        \n",
    "        embs = [all_emb]\n",
    "        \n",
    "        if self.node_dropout > 0 :\n",
    "            if self.training:\n",
    "                g_droped = self.__dropout(graph, self.node_dropout)\n",
    "                \n",
    "            else:\n",
    "                g_droped = graph\n",
    "                \n",
    "        else:\n",
    "            g_droped = graph\n",
    "            \n",
    "        ego_emb = all_emb\n",
    "        for k in range(self.num_layers):\n",
    "            if self.split:\n",
    "                tmp_emb = []\n",
    "                for f in range(len(g_droped)):\n",
    "                    tmp_emb.append(torch.sparse.mm(g_droped[f], ego_emb))\n",
    "                side_emb = torch.cat(temp_emb, dim = 0)\n",
    "                all_emb = side_emb\n",
    "                \n",
    "            else:\n",
    "                all_emb = torch.sparse.mm(g_droped, all_emb)\n",
    "            embs.append(all_emb)\n",
    "            \n",
    "        embs = torch.stack(embs, dim = 1)\n",
    "        lightgcn_out = torch.mean(embs, dim = 1)\n",
    "        users, items = torch.split(lightgcn_out, [self.n_user, self.n_item])\n",
    "        \n",
    "        return users, items\n",
    "        \n",
    "    def _split_A_hat(self, A):\n",
    "        A_fold = []\n",
    "        fold_len = (self.n_user + self.n_item) // self.num_folds\n",
    "        \n",
    "        for i_fold in range(self.num_folds):\n",
    "            start = i_fold * fold_len\n",
    "            if i_fold == self.num_folds -1:\n",
    "                end = self.n_user + self.n_item\n",
    "            else:\n",
    "                end = (i_fold + 1) * fold_len\n",
    "            A_fold.append(self._convert_sp_mat_to_sp_tensor(A[start:end]).coalesce().to(self.device))\n",
    "        return A_fold\n",
    "    \n",
    "    def _convert_sp_mat_to_sp_tensor(self, X):\n",
    "        coo = X.tocoo().astype(np.float32)\n",
    "        row = torch.Tensor(coo.row).long()\n",
    "        col = torch.Tensor(coo.col).long()\n",
    "        index = torch.stack([row, col])\n",
    "        data = torch.FloatTensor(coo.data)\n",
    "        return torch.sparse.FloatTensor(index, data, torch.Size(coo.shape))\n",
    "    \n",
    "    def getSparseGraph(self):\n",
    "        n_users, n_items = self.train_matrix.shape\n",
    "        \n",
    "        adj_mat = sp.dok_matrix((n_users + n_items, n_users + n_items), dtype = np.float32)\n",
    "        adj_mat = adj_mat.tolil()\n",
    "        R = rating_matrix.tolil()\n",
    "        adj_mat[:n_users, n_users:] = R\n",
    "        adj_mat[n_users:, :n_users] = R.T\n",
    "        adj_mat = adj_mat.todok()\n",
    "        \n",
    "        rowsum = np.array(adj_mat.sum(axis = 1))\n",
    "        d_inv = np.power(rowsum, -0.5).flatten()\n",
    "        d_inv[np.isinf(d_inv)] = 0.\n",
    "        d_mat = sp.diags(d_inv)\n",
    "        \n",
    "        norm_adj = d_mat.dot(adj_mat)\n",
    "        norm_adj = norm_adj.dot(d_mat)\n",
    "        norm_adj = norm_adj.tocsr()\n",
    "        \n",
    "        if self.split == True:\n",
    "            Graph = self._split_A_hat(norm_adj)\n",
    "        \n",
    "        else:\n",
    "            Graph = self._convert_sp_mat_to_sp_tensor(norm_adj)\n",
    "            Graph = Graph.coalesce().to(self.device)\n",
    "            \n",
    "        return Graph\n",
    "    \n",
    "    def predict_batch_users(self, user_ids):\n",
    "        user_embeddings = F.embedding(user_ids, self.user_embedding_pred)\n",
    "        item_embeddings = self.item_Embedding_pred\n",
    "        return np.matmul(user_embeddings, item_embeddings.T)\n",
    "    \n",
    "    def forward(self, user, item):\n",
    "        u_embedding, i_embedding = self.lightgcn_embedding(self.Graph)\n",
    "        \n",
    "        user_latent = F.embedding(user, u_embedding)\n",
    "        item_latent = F.embedding(item, i_embedding)\n",
    "        \n",
    "        score = torch.mul(user_latent, item_latent).sum(1)\n",
    "        \n",
    "        return score"
   ]
  },
  {
   "cell_type": "code",
   "execution_count": 147,
   "id": "a58d71bb",
   "metadata": {},
   "outputs": [],
   "source": [
    "class CustomDataset(Dataset):\n",
    "    def __init__(self, df):\n",
    "        super(Dataset, self).__init__()\n",
    "        self.df = df\n",
    "        \n",
    "    def __len__(self):\n",
    "        return len(self.df)\n",
    "    \n",
    "    def __getitem__(self, idx):\n",
    "        row = self.df.iloc[idx]\n",
    "        \n",
    "        user = torch.tensor(row[0], dtype = torch.long)\n",
    "        item = torch.tensor(row[1], dtype = torch.long)\n",
    "        label = torch.tensor(row[2], dtype = torch.float)\n",
    "        \n",
    "        return user, item, label"
   ]
  },
  {
   "cell_type": "markdown",
   "id": "a0925d6d",
   "metadata": {},
   "source": [
    "# Main"
   ]
  },
  {
   "cell_type": "markdown",
   "id": "6ca1f121",
   "metadata": {},
   "source": [
    "### argparse"
   ]
  },
  {
   "cell_type": "code",
   "execution_count": 148,
   "id": "9f7f3da7",
   "metadata": {},
   "outputs": [
    {
     "data": {
      "text/plain": [
       "_StoreAction(option_strings=['--lr'], dest='lr', nargs=None, const=None, default=0.001, type=None, choices=None, help=None, metavar=None)"
      ]
     },
     "execution_count": 148,
     "metadata": {},
     "output_type": "execute_result"
    }
   ],
   "source": [
    "parser = argparse.ArgumentParser(description = 'Run LightGCN')\n",
    "parser.add_argument('--embed_size', default = 64)\n",
    "parser.add_argument('--num_layers', default = 2)\n",
    "parser.add_argument('--node_dropout', default = 0.3)\n",
    "parser.add_argument('--split', default = False)\n",
    "parser.add_argument('--num_folds', default = 100)\n",
    "parser.add_argument('--reg', default = 1e-3)\n",
    "parser.add_argument('--epochs', default = 40)\n",
    "parser.add_argument('--batch_size', default = 1024)\n",
    "parser.add_argument('--lr', default = 1e-3)"
   ]
  },
  {
   "cell_type": "code",
   "execution_count": null,
   "id": "014af20f",
   "metadata": {},
   "outputs": [],
   "source": []
  },
  {
   "cell_type": "code",
   "execution_count": 99,
   "id": "9ca2e93b",
   "metadata": {},
   "outputs": [
    {
     "name": "stdout",
     "output_type": "stream",
     "text": [
      "epoch : 0, train_loss : 11.7921, test_loss : 9.1175\n",
      "epoch : 1, train_loss : 3.9549, test_loss : 3.2602\n",
      "epoch : 2, train_loss : 2.1307, test_loss : 2.8058\n",
      "epoch : 3, train_loss : 1.9053, test_loss : 2.5529\n",
      "epoch : 4, train_loss : 1.7366, test_loss : 2.3437\n",
      "epoch : 5, train_loss : 1.5994, test_loss : 2.2105\n",
      "epoch : 6, train_loss : 1.488, test_loss : 2.0135\n",
      "epoch : 7, train_loss : 1.3955, test_loss : 1.9432\n",
      "epoch : 8, train_loss : 1.3179, test_loss : 1.7821\n",
      "epoch : 9, train_loss : 1.2539, test_loss : 1.7169\n",
      "epoch : 10, train_loss : 1.1986, test_loss : 1.6017\n",
      "epoch : 11, train_loss : 1.1533, test_loss : 1.5254\n",
      "epoch : 12, train_loss : 1.1138, test_loss : 1.4765\n",
      "epoch : 13, train_loss : 1.081, test_loss : 1.4023\n",
      "epoch : 14, train_loss : 1.052, test_loss : 1.3585\n",
      "epoch : 15, train_loss : 1.0271, test_loss : 1.3191\n",
      "epoch : 16, train_loss : 1.0067, test_loss : 1.2871\n",
      "epoch : 17, train_loss : 0.9875, test_loss : 1.221\n",
      "epoch : 18, train_loss : 0.9727, test_loss : 1.2023\n",
      "epoch : 19, train_loss : 0.9597, test_loss : 1.1707\n",
      "epoch : 20, train_loss : 0.9463, test_loss : 1.1307\n",
      "epoch : 21, train_loss : 0.9355, test_loss : 1.1249\n",
      "epoch : 22, train_loss : 0.9261, test_loss : 1.1135\n",
      "epoch : 23, train_loss : 0.9193, test_loss : 1.0752\n",
      "epoch : 24, train_loss : 0.9108, test_loss : 1.0675\n",
      "epoch : 25, train_loss : 0.9058, test_loss : 1.0621\n",
      "epoch : 26, train_loss : 0.9, test_loss : 1.0477\n",
      "epoch : 27, train_loss : 0.895, test_loss : 1.0322\n",
      "epoch : 28, train_loss : 0.8895, test_loss : 1.0295\n",
      "epoch : 29, train_loss : 0.8857, test_loss : 1.0128\n",
      "epoch : 30, train_loss : 0.8823, test_loss : 1.013\n",
      "epoch : 31, train_loss : 0.8795, test_loss : 0.99\n",
      "epoch : 32, train_loss : 0.8768, test_loss : 0.9988\n",
      "epoch : 33, train_loss : 0.8738, test_loss : 0.9729\n",
      "epoch : 34, train_loss : 0.871, test_loss : 0.9797\n",
      "epoch : 35, train_loss : 0.8685, test_loss : 0.9684\n",
      "epoch : 36, train_loss : 0.8676, test_loss : 0.9851\n",
      "epoch : 37, train_loss : 0.8659, test_loss : 0.9606\n",
      "epoch : 38, train_loss : 0.8636, test_loss : 0.9736\n",
      "epoch : 39, train_loss : 0.862, test_loss : 0.9569\n"
     ]
    }
   ],
   "source": [
    "args = parser.parse_args('')\n",
    "args.device = 'cuda' if torch.cuda.is_available() else 'cpu'\n",
    "\n",
    "n_user = train_df['user_id'].nunique()\n",
    "n_item = train_df['movie_id'].nunique()\n",
    "\n",
    "model = LightGCN(n_user, n_item, args, train_df)\n",
    "optimizer = optim.Adam(model.parameters(), lr = args.lr)\n",
    "\n",
    "train_dataset = CustomDataset(train_df)\n",
    "test_dataset = CustomDataset(test_df)\n",
    "\n",
    "train_dataloader = DataLoader(train_dataset, batch_size = args.batch_size, shuffle = True)\n",
    "test_dataloader = DataLoader(test_dataset, batch_size = args.batch_size, shuffle = True)\n",
    "\n",
    "train_loss_loger, test_loss_loger = [], []\n",
    "criterion = nn.MSELoss()\n",
    "\n",
    "for epoch in range(args.epochs):\n",
    "    train_loss = 0\n",
    "    \n",
    "    model.train()\n",
    "    for users, items, labels in train_dataloader:\n",
    "        hat_labels = model(users, items)\n",
    "        batch_loss = criterion(hat_labels, labels)\n",
    "        optimizer.zero_grad()\n",
    "        batch_loss.backward()\n",
    "        optimizer.step()\n",
    "        train_loss += batch_loss.item() / len(train_dataloader)\n",
    "        \n",
    "    train_loss_loger.append(train_loss)\n",
    "    \n",
    "    test_loss = 0\n",
    "    with torch.no_grad():\n",
    "        model.eval()\n",
    "        for users, items, labels in test_dataloader:\n",
    "            hat_labels = model(users, items)\n",
    "            batch_loss = criterion(hat_labels, labels)\n",
    "            test_loss += batch_loss.item() / len(test_dataloader)\n",
    "            \n",
    "        test_loss_loger.append(test_loss)\n",
    "        \n",
    "    print('epoch : {}, train_loss : {}, test_loss : {}'.format(epoch, round(train_loss, 4), round(test_loss, 4)))     "
   ]
  },
  {
   "cell_type": "code",
   "execution_count": null,
   "id": "dad95911",
   "metadata": {},
   "outputs": [],
   "source": []
  }
 ],
 "metadata": {
  "kernelspec": {
   "display_name": "gnn_rec",
   "language": "python",
   "name": "gnn_rec"
  },
  "language_info": {
   "codemirror_mode": {
    "name": "ipython",
    "version": 3
   },
   "file_extension": ".py",
   "mimetype": "text/x-python",
   "name": "python",
   "nbconvert_exporter": "python",
   "pygments_lexer": "ipython3",
   "version": "3.9.12"
  }
 },
 "nbformat": 4,
 "nbformat_minor": 5
}
