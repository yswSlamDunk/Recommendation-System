{
 "cells": [
  {
   "cell_type": "code",
   "execution_count": 20,
   "id": "67abaf63",
   "metadata": {},
   "outputs": [],
   "source": [
    "import json\n",
    "import torch\n",
    "import pandas as pd\n",
    "from pathlib import Path\n",
    "from itertools import repeat\n",
    "from collections import OrderedDict\n",
    "import pickle\n",
    "\n",
    "from sklearn.model_selection import train_test_split"
   ]
  },
  {
   "cell_type": "code",
   "execution_count": null,
   "id": "d2d357ff",
   "metadata": {},
   "outputs": [],
   "source": []
  },
  {
   "cell_type": "code",
   "execution_count": 24,
   "id": "a689c370",
   "metadata": {},
   "outputs": [],
   "source": [
    "with open('model.pickle', 'wb') as f:\n",
    "    a = [1, 2, 3]\n",
    "    pickle.dump(a, f)"
   ]
  },
  {
   "cell_type": "code",
   "execution_count": 25,
   "id": "c88339bc",
   "metadata": {},
   "outputs": [
    {
     "name": "stdout",
     "output_type": "stream",
     "text": [
      "[1, 2, 3]\n"
     ]
    }
   ],
   "source": [
    "with open('model.pickle', 'rb') as f:\n",
    "    a = pickle.load(f)\n",
    "    print(a)"
   ]
  },
  {
   "cell_type": "code",
   "execution_count": null,
   "id": "42eee7cf",
   "metadata": {},
   "outputs": [],
   "source": []
  },
  {
   "cell_type": "code",
   "execution_count": null,
   "id": "09e21d72",
   "metadata": {},
   "outputs": [],
   "source": []
  },
  {
   "cell_type": "code",
   "execution_count": 15,
   "id": "0d02010c",
   "metadata": {},
   "outputs": [],
   "source": [
    "tmp_dict = {'a' : [1, 2, 3], 'b': [1, 2], 'c' : 1234}\n",
    "\n",
    "merge_dict = {'a': 1, 'b' : 2}"
   ]
  },
  {
   "cell_type": "code",
   "execution_count": 16,
   "id": "7cf97d1f",
   "metadata": {},
   "outputs": [],
   "source": [
    "a = tmp_dict.copy()\n",
    "a.update(merge_dict)"
   ]
  },
  {
   "cell_type": "code",
   "execution_count": 17,
   "id": "f250da3d",
   "metadata": {},
   "outputs": [
    {
     "name": "stdout",
     "output_type": "stream",
     "text": [
      "{'a': 1, 'b': 2, 'c': 1234}\n"
     ]
    }
   ],
   "source": [
    "print(a)"
   ]
  },
  {
   "cell_type": "code",
   "execution_count": 18,
   "id": "4aa7b2c2",
   "metadata": {},
   "outputs": [
    {
     "data": {
      "text/plain": [
       "{'a': [1, 2, 3], 'b': [1, 2], 'c': 1234}"
      ]
     },
     "execution_count": 18,
     "metadata": {},
     "output_type": "execute_result"
    }
   ],
   "source": [
    "tmp_dict"
   ]
  },
  {
   "cell_type": "code",
   "execution_count": null,
   "id": "1c955d35",
   "metadata": {},
   "outputs": [],
   "source": []
  },
  {
   "cell_type": "code",
   "execution_count": null,
   "id": "5893a035",
   "metadata": {},
   "outputs": [],
   "source": []
  },
  {
   "cell_type": "code",
   "execution_count": 12,
   "id": "2df301e3",
   "metadata": {},
   "outputs": [],
   "source": [
    "def ensure_dir(dirname):\n",
    "    dirname = Path(dirname)\n",
    "    if not dirname.is_dir():\n",
    "        dirname.mkdir(parents = True, exist_ok = False)\n",
    "\n",
    "def read_json(fname):\n",
    "    fname = Path(fname)\n",
    "    with fname.open('rt') as handle:\n",
    "        return json.load(handle, object_hook = OrderedDict)\n",
    "\n",
    "def write_json(content, fname):\n",
    "    with fname.open('wt') as handle:\n",
    "        json.dump(content, handle, indent = 4, sort_keys = False)\n",
    "\n",
    "def preprare_device(n_gpu_use):\n",
    "    n_gpu = torch.cuda.device_count()\n",
    "    if n_gpu_use > 0 and n_gpu == 0:\n",
    "        print('Warning: There\\'s no GPU available on this machine, training will be performed on CPU.')\n",
    "        n_gpu_use = n_gpu\n",
    "    device = torch.device('cuda:0' if n_gpu_use > 0 else 'cpu')\n",
    "    list_ids = list(range(n_gpu_use))\n",
    "    return device, list_ids\n",
    "\n",
    "class MetricTracker:\n",
    "    def __init__(self, *keys, writer=None):\n",
    "        self.writer = writer\n",
    "        self._data = pd.DataFrame(\n",
    "            index=keys, columns=['total', 'counts', 'average'])\n",
    "        self.reset()\n",
    "\n",
    "    def reset(self):\n",
    "        for col in self._data.columns:\n",
    "            self._data[col].values[:] = 0\n",
    "\n",
    "    def update(self, key, value, n=1):\n",
    "        if self.writer is not None:\n",
    "            self.writer.add_scalar(key, value)\n",
    "        self._data.total[key] += value * n\n",
    "        self._data.counts[key] += n\n",
    "        self._data.everate[key] = self._data.total[key] / \\\n",
    "            self._data.counts[key]\n",
    "\n",
    "    def avg(self, key):\n",
    "        return self._data.average[key]\n",
    "\n",
    "    def result(self):\n",
    "        return dict(self._data.average)"
   ]
  },
  {
   "cell_type": "code",
   "execution_count": 2,
   "id": "264e7f0e",
   "metadata": {},
   "outputs": [],
   "source": [
    "config_path = '../Graph/1_3.NGCF_NeuralGraphCollaborativeFiltering_explicit_version02/config.json'"
   ]
  },
  {
   "cell_type": "code",
   "execution_count": 4,
   "id": "a4f17594",
   "metadata": {},
   "outputs": [],
   "source": [
    "config = read_json(config_path)"
   ]
  },
  {
   "cell_type": "code",
   "execution_count": 5,
   "id": "cb512ccd",
   "metadata": {},
   "outputs": [
    {
     "data": {
      "text/plain": [
       "OrderedDict([('name', 'NGCF_MovieLens100k_explicit'),\n",
       "             ('cuda', OrderedDict([('n_gpu', 3), ('device', 'cuda')])),\n",
       "             ('data',\n",
       "              OrderedDict([('data_dir', 'data/'),\n",
       "                           ('file_name', 'ratings.csv')])),\n",
       "             ('data_loader',\n",
       "              OrderedDict([('shuffle', True), ('batch_size', 128)])),\n",
       "             ('preprocessing',\n",
       "              OrderedDict([('validation_split', 0.1),\n",
       "                           ('adj_type', ['plain', 'norm', 'mean'])])),\n",
       "             ('optimizer',\n",
       "              OrderedDict([('type', 'Adam'),\n",
       "                           ('lr', [0.01, 0.001, 0.0001]),\n",
       "                           ('regs', [0.01, 0.001, 0.0001])])),\n",
       "             ('loss', OrderedDict([('metrics', 'rmse')])),\n",
       "             ('lr_scheduler',\n",
       "              OrderedDict([('step_size', 10), ('gamma', [0.1, 0.01, 0.001])])),\n",
       "             ('model',\n",
       "              OrderedDict([('node_drop_flag',\n",
       "                            ['Activate Node Dropout', 'Disable Node Dropout']),\n",
       "                           ('node_drop', [0.1, 0.2, 0.3]),\n",
       "                           ('mess_dropout', [0.1, 0.1, 0.1]),\n",
       "                           ('embed_size', [10, 20, 30, 40]),\n",
       "                           ('layer_size', [64, 64, 64])])),\n",
       "             ('train',\n",
       "              OrderedDict([('epoch', 100),\n",
       "                           ('early_stop', 5),\n",
       "                           ('tensorboard', True),\n",
       "                           ('logging_verbosity', 2),\n",
       "                           ('save_dir', 'saved/')]))])"
      ]
     },
     "execution_count": 5,
     "metadata": {},
     "output_type": "execute_result"
    }
   ],
   "source": [
    "config"
   ]
  },
  {
   "cell_type": "code",
   "execution_count": 6,
   "id": "b7b4f023",
   "metadata": {},
   "outputs": [
    {
     "data": {
      "text/plain": [
       "2"
      ]
     },
     "execution_count": 6,
     "metadata": {},
     "output_type": "execute_result"
    }
   ],
   "source": [
    "config['train']['logging_verbosity']"
   ]
  },
  {
   "cell_type": "code",
   "execution_count": 7,
   "id": "8df6a7fc",
   "metadata": {},
   "outputs": [],
   "source": [
    "path = '../Graph/1_2.NGCF_NeuralGraphCollaborativeFiltering_explicit/data/ratings.csv'"
   ]
  },
  {
   "cell_type": "code",
   "execution_count": 10,
   "id": "1aa7cb20",
   "metadata": {},
   "outputs": [],
   "source": [
    "df = pd.read_csv(path, encoding = 'cp949', names = ['user_id', 'movie_id', 'rating', 'timestamp'])"
   ]
  },
  {
   "cell_type": "code",
   "execution_count": 11,
   "id": "10bfb172",
   "metadata": {},
   "outputs": [
    {
     "data": {
      "text/html": [
       "<div>\n",
       "<style scoped>\n",
       "    .dataframe tbody tr th:only-of-type {\n",
       "        vertical-align: middle;\n",
       "    }\n",
       "\n",
       "    .dataframe tbody tr th {\n",
       "        vertical-align: top;\n",
       "    }\n",
       "\n",
       "    .dataframe thead th {\n",
       "        text-align: right;\n",
       "    }\n",
       "</style>\n",
       "<table border=\"1\" class=\"dataframe\">\n",
       "  <thead>\n",
       "    <tr style=\"text-align: right;\">\n",
       "      <th></th>\n",
       "      <th>user_id</th>\n",
       "      <th>movie_id</th>\n",
       "      <th>rating</th>\n",
       "      <th>timestamp</th>\n",
       "    </tr>\n",
       "  </thead>\n",
       "  <tbody>\n",
       "    <tr>\n",
       "      <th>0</th>\n",
       "      <td>196</td>\n",
       "      <td>242</td>\n",
       "      <td>3</td>\n",
       "      <td>881250949</td>\n",
       "    </tr>\n",
       "    <tr>\n",
       "      <th>1</th>\n",
       "      <td>186</td>\n",
       "      <td>302</td>\n",
       "      <td>3</td>\n",
       "      <td>891717742</td>\n",
       "    </tr>\n",
       "    <tr>\n",
       "      <th>2</th>\n",
       "      <td>22</td>\n",
       "      <td>377</td>\n",
       "      <td>1</td>\n",
       "      <td>878887116</td>\n",
       "    </tr>\n",
       "    <tr>\n",
       "      <th>3</th>\n",
       "      <td>244</td>\n",
       "      <td>51</td>\n",
       "      <td>2</td>\n",
       "      <td>880606923</td>\n",
       "    </tr>\n",
       "    <tr>\n",
       "      <th>4</th>\n",
       "      <td>166</td>\n",
       "      <td>346</td>\n",
       "      <td>1</td>\n",
       "      <td>886397596</td>\n",
       "    </tr>\n",
       "  </tbody>\n",
       "</table>\n",
       "</div>"
      ],
      "text/plain": [
       "   user_id  movie_id  rating  timestamp\n",
       "0      196       242       3  881250949\n",
       "1      186       302       3  891717742\n",
       "2       22       377       1  878887116\n",
       "3      244        51       2  880606923\n",
       "4      166       346       1  886397596"
      ]
     },
     "execution_count": 11,
     "metadata": {},
     "output_type": "execute_result"
    }
   ],
   "source": [
    "df.head()"
   ]
  },
  {
   "cell_type": "code",
   "execution_count": 31,
   "id": "85ced6b5",
   "metadata": {},
   "outputs": [],
   "source": [
    "train, test = train_test_split(df, test_size = 0.1)"
   ]
  },
  {
   "cell_type": "code",
   "execution_count": 32,
   "id": "9811ecfc",
   "metadata": {},
   "outputs": [
    {
     "name": "stdout",
     "output_type": "stream",
     "text": [
      "90000\n",
      "10000\n"
     ]
    }
   ],
   "source": [
    "print(len(train))\n",
    "print(len(test))"
   ]
  },
  {
   "cell_type": "code",
   "execution_count": 33,
   "id": "2d90beda",
   "metadata": {},
   "outputs": [],
   "source": [
    "def check_train_test_split(train, test):\n",
    "    test_only_item = list(set(test['movie_id'].unique().flatten()) - set(train['movie_id'].unique().flatten()))\n",
    "    test_only_user = list(set(test['user_id'].unique().flatten()) - set(train['user_id'].unique().flatten()))\n",
    "    \n",
    "    if len(test_only_user) != 0:\n",
    "        test_only = test[test['user_id'].isin(test_only_user)]\n",
    "        train = pd.concat([train, test_only], axis = 0)\n",
    "        test = test[~test['user_id'].isin(test_only_user)]\n",
    "        \n",
    "    if len(test_only_item) != 0:\n",
    "        test_only = test[test['movie_id'].isin(test_only_item)]\n",
    "        train = pd.concat([train, test_only], axis = 0)\n",
    "        test = test[~test['movie_id'].isin(test_only_item)]\n",
    "\n",
    "    \n",
    "    return train, test"
   ]
  },
  {
   "cell_type": "code",
   "execution_count": 34,
   "id": "08ae79ec",
   "metadata": {},
   "outputs": [],
   "source": [
    "train, test = check_train_test_split(train, test)"
   ]
  },
  {
   "cell_type": "code",
   "execution_count": 35,
   "id": "94c4d9a0",
   "metadata": {},
   "outputs": [
    {
     "name": "stdout",
     "output_type": "stream",
     "text": [
      "90019\n",
      "9981\n"
     ]
    }
   ],
   "source": [
    "print(len(train))\n",
    "print(len(test))"
   ]
  },
  {
   "cell_type": "code",
   "execution_count": 27,
   "id": "00946ef4",
   "metadata": {},
   "outputs": [],
   "source": [
    "import os"
   ]
  },
  {
   "cell_type": "code",
   "execution_count": 28,
   "id": "4464b2ac",
   "metadata": {},
   "outputs": [
    {
     "name": "stdout",
     "output_type": "stream",
     "text": [
      "/home/yooseungwoo/Desktop/Project/Recommendation-System/Jupyter Notebook\n"
     ]
    }
   ],
   "source": [
    "print(os.getcwd())"
   ]
  },
  {
   "cell_type": "code",
   "execution_count": 29,
   "id": "6ea50c42",
   "metadata": {},
   "outputs": [
    {
     "name": "stdout",
     "output_type": "stream",
     "text": [
      "['Knowledge Graph Attention Network.ipynb', 'my.log', 'NGCF_Movielens 100k.ipynb', 'asdf', 'Movie_Lens_100k to gowalla shape.ipynb', 'practice_NGCF_1_3.ipynb', 'LightGCN_Movielens 100k.ipynb', 'Knowledge Graph Attention Network_practice.ipynb', 'practice_logging.ipynb', '.ipynb_checkpoints', 'logger_config.json', 'model.pickle']\n"
     ]
    }
   ],
   "source": [
    "print(os.listdir())"
   ]
  },
  {
   "cell_type": "code",
   "execution_count": 30,
   "id": "6862f398",
   "metadata": {},
   "outputs": [
    {
     "name": "stdout",
     "output_type": "stream",
     "text": [
      "['.ipynb_checkpoints', 'Knowledge Graph Attention Network.ipynb', 'Knowledge Graph Attention Network_practice.ipynb', 'LightGCN_Movielens 100k.ipynb', 'Movie_Lens_100k to gowalla shape.ipynb', 'NGCF_Movielens 100k.ipynb', 'asdf', 'logger_config.json', 'model.pickle', 'my.log', 'practice_NGCF_1_3.ipynb', 'practice_logging.ipynb']\n"
     ]
    }
   ],
   "source": [
    "print(sorted(os.listdir()))"
   ]
  },
  {
   "cell_type": "code",
   "execution_count": 31,
   "id": "db1dcba2",
   "metadata": {},
   "outputs": [
    {
     "name": "stdout",
     "output_type": "stream",
     "text": [
      "practice_logging.ipynb\n"
     ]
    }
   ],
   "source": [
    "print(sorted(os.listdir())[-1])"
   ]
  },
  {
   "cell_type": "code",
   "execution_count": null,
   "id": "f3aa2683",
   "metadata": {},
   "outputs": [],
   "source": []
  },
  {
   "cell_type": "code",
   "execution_count": null,
   "id": "3a306bba",
   "metadata": {},
   "outputs": [],
   "source": []
  },
  {
   "cell_type": "code",
   "execution_count": null,
   "id": "e2370456",
   "metadata": {},
   "outputs": [],
   "source": []
  }
 ],
 "metadata": {
  "kernelspec": {
   "display_name": "gnn_rec",
   "language": "python",
   "name": "gnn_rec"
  },
  "language_info": {
   "codemirror_mode": {
    "name": "ipython",
    "version": 3
   },
   "file_extension": ".py",
   "mimetype": "text/x-python",
   "name": "python",
   "nbconvert_exporter": "python",
   "pygments_lexer": "ipython3",
   "version": "3.9.12"
  }
 },
 "nbformat": 4,
 "nbformat_minor": 5
}
